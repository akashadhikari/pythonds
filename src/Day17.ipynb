{
 "cells": [
  {
   "cell_type": "code",
   "execution_count": 27,
   "id": "c03e9803",
   "metadata": {},
   "outputs": [],
   "source": [
    "from sklearn import datasets "
   ]
  },
  {
   "cell_type": "markdown",
   "id": "831973a3",
   "metadata": {},
   "source": [
    "### Loading the iris plants dataset (classification) with load_iris()"
   ]
  },
  {
   "cell_type": "code",
   "execution_count": 28,
   "id": "b925aaa2",
   "metadata": {},
   "outputs": [],
   "source": [
    "iris = None # replace this with appropriate function"
   ]
  },
  {
   "cell_type": "markdown",
   "id": "259c3040",
   "metadata": {},
   "source": [
    "### Display the iris data"
   ]
  },
  {
   "cell_type": "code",
   "execution_count": 37,
   "id": "b1d02022",
   "metadata": {},
   "outputs": [],
   "source": [
    "iris"
   ]
  },
  {
   "cell_type": "markdown",
   "id": "95cd2f29",
   "metadata": {},
   "source": [
    "### What are the keys?"
   ]
  },
  {
   "cell_type": "code",
   "execution_count": 30,
   "id": "2f188de6",
   "metadata": {},
   "outputs": [],
   "source": [
    "### Display the keys of iris data"
   ]
  },
  {
   "cell_type": "markdown",
   "id": "496c6373",
   "metadata": {},
   "source": [
    "### What is in the `data` key?"
   ]
  },
  {
   "cell_type": "code",
   "execution_count": 35,
   "id": "48b0f462",
   "metadata": {},
   "outputs": [],
   "source": [
    "### Display the data key of our iris dataset"
   ]
  },
  {
   "cell_type": "markdown",
   "id": "caa76b39",
   "metadata": {},
   "source": [
    "### What is in the `target` key?"
   ]
  },
  {
   "cell_type": "code",
   "execution_count": 34,
   "id": "70fcf7f9",
   "metadata": {},
   "outputs": [],
   "source": [
    "### Display the data key of our iris dataset"
   ]
  },
  {
   "cell_type": "markdown",
   "id": "d1081a63",
   "metadata": {},
   "source": [
    "### What are its `target_names` ?"
   ]
  },
  {
   "cell_type": "code",
   "execution_count": 32,
   "id": "6c0f9e97",
   "metadata": {},
   "outputs": [],
   "source": [
    "### Display the target_names of iris"
   ]
  },
  {
   "cell_type": "markdown",
   "id": "b4472c1b",
   "metadata": {},
   "source": [
    "### What are its `feature_names`?"
   ]
  },
  {
   "cell_type": "code",
   "execution_count": 33,
   "id": "d67b2ee8",
   "metadata": {},
   "outputs": [],
   "source": [
    "### Display the feature_naes of iris"
   ]
  },
  {
   "cell_type": "markdown",
   "id": "6f7881af",
   "metadata": {},
   "source": [
    "### Store `data` in `x` and `target` in `y`"
   ]
  },
  {
   "cell_type": "code",
   "execution_count": 21,
   "id": "113ab2eb",
   "metadata": {},
   "outputs": [],
   "source": [
    "from sklearn.model_selection import train_test_split\n",
    "\n",
    "# Spliting arrays or matrices into random train and test subsets\n",
    "# i.e. 70 % training dataset and 30 % test datasets\n",
    "\n",
    "x_train, x_test, y_train, y_test = train_test_split(________)"
   ]
  },
  {
   "cell_type": "code",
   "execution_count": 36,
   "id": "7ac19463",
   "metadata": {},
   "outputs": [],
   "source": [
    "from sklearn.ensemble import RandomForestClassifier\n",
    "\n",
    "# creating a RF classifier\n",
    "clf = RandomForestClassifier() "
   ]
  },
  {
   "cell_type": "code",
   "execution_count": null,
   "id": "1c4b0d47",
   "metadata": {},
   "outputs": [],
   "source": [
    "# Training the model on the training dataset\n",
    "# fit function is used to train the model using the training sets as parameters\n",
    "clf.fit(_____, _____)"
   ]
  },
  {
   "cell_type": "code",
   "execution_count": null,
   "id": "b3c31d96",
   "metadata": {},
   "outputs": [],
   "source": [
    "# performing predictions on the test dataset\n",
    "y_pred = clf.predict(_____)"
   ]
  },
  {
   "cell_type": "code",
   "execution_count": null,
   "id": "9330e15e",
   "metadata": {},
   "outputs": [],
   "source": [
    "# metrics are used to find accuracy or error\n",
    "from sklearn import metrics  \n",
    "# using metrics module for accuracy calculation\n",
    "print(\"ACCURACY OF THE MODEL: \", metrics.accuracy_score(y_test, y_pred))"
   ]
  },
  {
   "cell_type": "markdown",
   "id": "7bf5dd4a",
   "metadata": {},
   "source": [
    "### Predict the flower name having `sepal_length` = 3, `sepal_width`=3, `petal_length`=5, `petal_width`=2"
   ]
  },
  {
   "cell_type": "code",
   "execution_count": 24,
   "id": "9207871d",
   "metadata": {},
   "outputs": [
    {
     "data": {
      "text/plain": [
       "array([2])"
      ]
     },
     "execution_count": 24,
     "metadata": {},
     "output_type": "execute_result"
    }
   ],
   "source": [
    "clf.predict([_____])"
   ]
  },
  {
   "cell_type": "code",
   "execution_count": null,
   "id": "3ddacc40",
   "metadata": {},
   "outputs": [],
   "source": []
  }
 ],
 "metadata": {
  "kernelspec": {
   "display_name": "Python 3 (ipykernel)",
   "language": "python",
   "name": "python3"
  },
  "language_info": {
   "codemirror_mode": {
    "name": "ipython",
    "version": 3
   },
   "file_extension": ".py",
   "mimetype": "text/x-python",
   "name": "python",
   "nbconvert_exporter": "python",
   "pygments_lexer": "ipython3",
   "version": "3.8.10"
  }
 },
 "nbformat": 4,
 "nbformat_minor": 5
}
