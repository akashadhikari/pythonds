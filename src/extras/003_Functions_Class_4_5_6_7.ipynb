{
 "cells": [
  {
   "cell_type": "markdown",
   "id": "6260c42c",
   "metadata": {},
   "source": [
    "### Functions"
   ]
  },
  {
   "cell_type": "code",
   "execution_count": 6,
   "id": "5b1f9123",
   "metadata": {},
   "outputs": [],
   "source": [
    "# function definition\n",
    "'''\n",
    "def function_name(function parameter):\n",
    "    function body\n",
    "    return statement\n",
    "'''\n",
    "\n",
    "def addition(a,b):\n",
    "    return a+b"
   ]
  },
  {
   "cell_type": "code",
   "execution_count": 7,
   "id": "a5aa753f",
   "metadata": {},
   "outputs": [
    {
     "data": {
      "text/plain": [
       "9"
      ]
     },
     "execution_count": 7,
     "metadata": {},
     "output_type": "execute_result"
    }
   ],
   "source": [
    "addition(4,5) # call"
   ]
  },
  {
   "cell_type": "markdown",
   "id": "c9d5595f",
   "metadata": {},
   "source": [
    "**1) Write a function called \"greeting\" that takes the name of the user and greets \"Hello {{name}} nice to meet you\"**"
   ]
  },
  {
   "cell_type": "code",
   "execution_count": 13,
   "id": "55d0c5b0",
   "metadata": {},
   "outputs": [
    {
     "data": {
      "text/plain": [
       "'Hello Subin nice to meet you!'"
      ]
     },
     "execution_count": 13,
     "metadata": {},
     "output_type": "execute_result"
    }
   ],
   "source": [
    "def greeting(name):\n",
    "    return \"Hello \"+ name + \" nice to meet you!\"\n",
    "\n",
    "greeting('Subin')"
   ]
  },
  {
   "cell_type": "markdown",
   "id": "c3002a82",
   "metadata": {},
   "source": [
    "**2) Create a function `sumnum` that takes a number as a parameter and outputs the sum of natural numbers upto that number**"
   ]
  },
  {
   "cell_type": "code",
   "execution_count": 46,
   "id": "16f7e3bf",
   "metadata": {},
   "outputs": [],
   "source": [
    "def sumnum(number):\n",
    "    c = 0\n",
    "    for i in range(1,number+1):\n",
    "        c = c+i\n",
    "    return c"
   ]
  },
  {
   "cell_type": "code",
   "execution_count": 47,
   "id": "4763b7fb",
   "metadata": {},
   "outputs": [
    {
     "name": "stdout",
     "output_type": "stream",
     "text": [
      "5618053000\n"
     ]
    }
   ],
   "source": [
    "x = sumnum(106000) # call\n",
    "print(x)"
   ]
  },
  {
   "cell_type": "markdown",
   "id": "c8bcbd72",
   "metadata": {},
   "source": [
    "What if I want to pass an undefined parameters?"
   ]
  },
  {
   "cell_type": "code",
   "execution_count": 21,
   "id": "fa5d1297",
   "metadata": {},
   "outputs": [],
   "source": [
    "def football(*team):\n",
    "    return team"
   ]
  },
  {
   "cell_type": "code",
   "execution_count": 22,
   "id": "19491ace",
   "metadata": {},
   "outputs": [
    {
     "data": {
      "text/plain": [
       "('Arsenal',)"
      ]
     },
     "execution_count": 22,
     "metadata": {},
     "output_type": "execute_result"
    }
   ],
   "source": [
    "football('Arsenal')"
   ]
  },
  {
   "cell_type": "code",
   "execution_count": 23,
   "id": "870f9eaa",
   "metadata": {},
   "outputs": [
    {
     "data": {
      "text/plain": [
       "('Arsenal', 'Man City')"
      ]
     },
     "execution_count": 23,
     "metadata": {},
     "output_type": "execute_result"
    }
   ],
   "source": [
    "football('Arsenal','Man City')"
   ]
  },
  {
   "cell_type": "code",
   "execution_count": 24,
   "id": "cacb463a",
   "metadata": {},
   "outputs": [
    {
     "data": {
      "text/plain": [
       "('Arsenal', 'Man City', 'Liverpool', 'Man Utd', 'Chelsea')"
      ]
     },
     "execution_count": 24,
     "metadata": {},
     "output_type": "execute_result"
    }
   ],
   "source": [
    "football('Arsenal','Man City', 'Liverpool', 'Man Utd', 'Chelsea')"
   ]
  },
  {
   "cell_type": "markdown",
   "id": "d5324982",
   "metadata": {},
   "source": [
    "**Anonymous functions or `lambda`**  \n",
    "A lambda function can take any number of arguments, but can only have one expression."
   ]
  },
  {
   "cell_type": "code",
   "execution_count": 26,
   "id": "7e4b5fcc",
   "metadata": {},
   "outputs": [],
   "source": [
    "x = lambda a : a + 10"
   ]
  },
  {
   "cell_type": "code",
   "execution_count": 27,
   "id": "13666a4d",
   "metadata": {},
   "outputs": [
    {
     "data": {
      "text/plain": [
       "15"
      ]
     },
     "execution_count": 27,
     "metadata": {},
     "output_type": "execute_result"
    }
   ],
   "source": [
    "x(5)"
   ]
  },
  {
   "cell_type": "code",
   "execution_count": 37,
   "id": "8c781f9e",
   "metadata": {},
   "outputs": [],
   "source": [
    "x = lambda a, b: a**b;"
   ]
  },
  {
   "cell_type": "code",
   "execution_count": 38,
   "id": "2dddaf62",
   "metadata": {},
   "outputs": [
    {
     "data": {
      "text/plain": [
       "10000000000"
      ]
     },
     "execution_count": 38,
     "metadata": {},
     "output_type": "execute_result"
    }
   ],
   "source": [
    "x(10,10)"
   ]
  },
  {
   "cell_type": "markdown",
   "id": "29895f0f",
   "metadata": {},
   "source": [
    "The power of lambda is seen when you use them as an anonymous function inside another function."
   ]
  },
  {
   "cell_type": "code",
   "execution_count": 49,
   "id": "ae96d792",
   "metadata": {},
   "outputs": [],
   "source": [
    "def myfunc(n):\n",
    "    return lambda a : a * n"
   ]
  },
  {
   "cell_type": "code",
   "execution_count": 50,
   "id": "cef71437",
   "metadata": {},
   "outputs": [],
   "source": [
    "doubleit = myfunc(2) # return lambda a : a * 2"
   ]
  },
  {
   "cell_type": "code",
   "execution_count": 51,
   "id": "eef7e5a0",
   "metadata": {},
   "outputs": [
    {
     "data": {
      "text/plain": [
       "200"
      ]
     },
     "execution_count": 51,
     "metadata": {},
     "output_type": "execute_result"
    }
   ],
   "source": [
    "doubleit(100)"
   ]
  },
  {
   "cell_type": "code",
   "execution_count": 53,
   "id": "34e48bd9",
   "metadata": {},
   "outputs": [],
   "source": [
    "tripleit = myfunc(3) # return lambda a : a * 3"
   ]
  },
  {
   "cell_type": "code",
   "execution_count": 54,
   "id": "55b41845",
   "metadata": {},
   "outputs": [
    {
     "data": {
      "text/plain": [
       "300"
      ]
     },
     "execution_count": 54,
     "metadata": {},
     "output_type": "execute_result"
    }
   ],
   "source": [
    "tripleit(100)"
   ]
  },
  {
   "cell_type": "markdown",
   "id": "d18c527a",
   "metadata": {},
   "source": [
    "https://cs.stanford.edu/people/nick/py/python-map-lambda.html"
   ]
  },
  {
   "cell_type": "markdown",
   "id": "67d86e04",
   "metadata": {},
   "source": [
    "### Class and Object (OOP with Python)"
   ]
  },
  {
   "cell_type": "code",
   "execution_count": 7,
   "id": "582966b7",
   "metadata": {},
   "outputs": [],
   "source": [
    "# Blueprint\n",
    "class MyClass:\n",
    "    val = 5"
   ]
  },
  {
   "cell_type": "code",
   "execution_count": 8,
   "id": "e323dd6a",
   "metadata": {},
   "outputs": [
    {
     "name": "stdout",
     "output_type": "stream",
     "text": [
      "<__main__.MyClass object at 0x7f879c173760>\n"
     ]
    }
   ],
   "source": [
    "o = MyClass() # creating an object of MyClass()\n",
    "print(o)"
   ]
  },
  {
   "cell_type": "code",
   "execution_count": 9,
   "id": "9dfb7b03",
   "metadata": {},
   "outputs": [
    {
     "data": {
      "text/plain": [
       "5"
      ]
     },
     "execution_count": 9,
     "metadata": {},
     "output_type": "execute_result"
    }
   ],
   "source": [
    "o.val"
   ]
  },
  {
   "cell_type": "markdown",
   "id": "613e8fcd",
   "metadata": {},
   "source": [
    "**The `__init__` function**"
   ]
  },
  {
   "cell_type": "markdown",
   "id": "7180e5a0",
   "metadata": {},
   "source": [
    "All classes have a function called __init__(), which is always executed when the class is being initiated.  \n",
    "Use the __init__() function to assign values to object properties, or other operations that are necessary to do when the object is being created:"
   ]
  },
  {
   "cell_type": "code",
   "execution_count": 29,
   "id": "23571aa7",
   "metadata": {},
   "outputs": [],
   "source": [
    "class TechAxisStudent:\n",
    "    def __init__(self, name, age, address):\n",
    "        self.name = name\n",
    "        self.age = age\n",
    "        self.address = address"
   ]
  },
  {
   "cell_type": "code",
   "execution_count": 30,
   "id": "d01e04da",
   "metadata": {},
   "outputs": [],
   "source": [
    "s1 = TechAxisStudent(\"Sachit\", 22, \"Kumaripati\"\n",
    "                    )"
   ]
  },
  {
   "cell_type": "code",
   "execution_count": 31,
   "id": "d55dc0a7",
   "metadata": {},
   "outputs": [
    {
     "data": {
      "text/plain": [
       "'Pradip'"
      ]
     },
     "execution_count": 31,
     "metadata": {},
     "output_type": "execute_result"
    }
   ],
   "source": [
    "s2 = TechAxisStudent(\"Pradip\", 25, \"Bagdol\")\n",
    "s2.name"
   ]
  },
  {
   "cell_type": "code",
   "execution_count": 15,
   "id": "e536e348",
   "metadata": {},
   "outputs": [
    {
     "data": {
      "text/plain": [
       "22"
      ]
     },
     "execution_count": 15,
     "metadata": {},
     "output_type": "execute_result"
    }
   ],
   "source": [
    "s1.age"
   ]
  },
  {
   "cell_type": "code",
   "execution_count": 16,
   "id": "44c70401",
   "metadata": {},
   "outputs": [
    {
     "data": {
      "text/plain": [
       "'Kumaripati'"
      ]
     },
     "execution_count": 16,
     "metadata": {},
     "output_type": "execute_result"
    }
   ],
   "source": [
    "s1.address"
   ]
  },
  {
   "cell_type": "markdown",
   "id": "1d004945",
   "metadata": {},
   "source": [
    "**We can also do**"
   ]
  },
  {
   "cell_type": "code",
   "execution_count": 129,
   "id": "d92680aa",
   "metadata": {},
   "outputs": [],
   "source": [
    "class TechAxisStudent:\n",
    "    def __init__(self, name, age, address):\n",
    "        self.student_name = name\n",
    "        self.student_age = age\n",
    "        self.student_address = address"
   ]
  },
  {
   "cell_type": "code",
   "execution_count": 131,
   "id": "76d32dea",
   "metadata": {},
   "outputs": [],
   "source": [
    "s1 = TechAxisStudent(\"Sachit\", 24, 'Kumaripati')"
   ]
  },
  {
   "cell_type": "code",
   "execution_count": 132,
   "id": "17393931",
   "metadata": {},
   "outputs": [],
   "source": [
    "# How to access the name?"
   ]
  },
  {
   "cell_type": "markdown",
   "id": "3426849a",
   "metadata": {},
   "source": [
    "**Functions in the class**"
   ]
  },
  {
   "cell_type": "code",
   "execution_count": 33,
   "id": "c9412cc2",
   "metadata": {},
   "outputs": [
    {
     "data": {
      "text/plain": [
       "'I am Akash from Brt'"
      ]
     },
     "execution_count": 33,
     "metadata": {},
     "output_type": "execute_result"
    }
   ],
   "source": [
    "a = 'Akash'\n",
    "b = 'Brt'\n",
    "\"I am \"+a+\" from \"+b"
   ]
  },
  {
   "cell_type": "code",
   "execution_count": 36,
   "id": "d832c34b",
   "metadata": {},
   "outputs": [],
   "source": [
    "class TechAxisStudent:\n",
    "    def __init__(self, name, address):\n",
    "        self.name = name\n",
    "        self.address = address\n",
    "        \n",
    "    def get_full_info(self):\n",
    "        return \"I am \"+self.name+\" from \"+self.address"
   ]
  },
  {
   "cell_type": "code",
   "execution_count": 37,
   "id": "e56df165",
   "metadata": {},
   "outputs": [],
   "source": [
    "s1 = TechAxisStudent(\"Sachit\", \"Baneshwor\")"
   ]
  },
  {
   "cell_type": "code",
   "execution_count": 41,
   "id": "3f9dcab7",
   "metadata": {},
   "outputs": [
    {
     "data": {
      "text/plain": [
       "'I am Sachit from Baneshwor'"
      ]
     },
     "execution_count": 41,
     "metadata": {},
     "output_type": "execute_result"
    }
   ],
   "source": [
    "s1.get_full_info()"
   ]
  },
  {
   "cell_type": "code",
   "execution_count": 51,
   "id": "6e51cf57",
   "metadata": {},
   "outputs": [
    {
     "data": {
      "text/plain": [
       "'my intrests are a and b'"
      ]
     },
     "execution_count": 51,
     "metadata": {},
     "output_type": "execute_result"
    }
   ],
   "source": [
    "class Person:\n",
    "    def __init__(self,name,age,sex,intrests):\n",
    "        self.name=name\n",
    "        self.sex=sex\n",
    "        self.age=age\n",
    "        self.intrests=intrests\n",
    "        \n",
    "    def my_intrests(self):\n",
    "        return \"my intrests are \"+self.intrests[0]+\" and \"+self.intrests[1]\n",
    "    \n",
    "s1= Person(\"santosh\",24,\"male\",['a','b'])\n",
    "s1.my_intrests()"
   ]
  },
  {
   "cell_type": "markdown",
   "id": "82cb1234",
   "metadata": {},
   "source": [
    "- Create a class Company that initializes the attributes `employee_name`, `employee_salary` in the `__init__` function.  \n",
    "- Create a class function `get_emp_detail` that stores the employee's record in the form of  \n",
    "- \"Employee name is {{employee_name}} and the salary is {{employee_salary}}\""
   ]
  },
  {
   "cell_type": "code",
   "execution_count": 57,
   "id": "da3dfd46",
   "metadata": {},
   "outputs": [
    {
     "data": {
      "text/plain": [
       "'Employee name is Ram Bahadur and the salary is 100000'"
      ]
     },
     "execution_count": 57,
     "metadata": {},
     "output_type": "execute_result"
    }
   ],
   "source": [
    "class Company:\n",
    "    \n",
    "    def __init__(self, employee_name, employee_salary):\n",
    "        self.employee_name = employee_name\n",
    "        self.employee_salary = employee_salary\n",
    "        \n",
    "    def get_emp_detail(self):\n",
    "        return \"Employee name is \"+self.employee_name+\" and the salary is \"+str(self.employee_salary)\n",
    "    \n",
    "e1 = Company('Ram Bahadur', 100000)\n",
    "e1.get_emp_detail()"
   ]
  },
  {
   "cell_type": "markdown",
   "id": "d916123c",
   "metadata": {},
   "source": [
    "### Inheritance in OOP"
   ]
  },
  {
   "cell_type": "markdown",
   "id": "1043ba2a",
   "metadata": {},
   "source": [
    "Let's revise class and object one more time"
   ]
  },
  {
   "cell_type": "code",
   "execution_count": 6,
   "id": "ef342211",
   "metadata": {},
   "outputs": [
    {
     "data": {
      "text/plain": [
       "'The fullname is Ram Thapa'"
      ]
     },
     "execution_count": 6,
     "metadata": {},
     "output_type": "execute_result"
    }
   ],
   "source": [
    "class Person:\n",
    "    def __init__(self, fname, lname):\n",
    "        self.firstname = fname\n",
    "        self.lastname = lname\n",
    "\n",
    "    def get_full_name(self):\n",
    "        return \"The fullname is \"+self.firstname+\" \"+self.lastname\n",
    "\n",
    "p = Person(\"Ram\", \"Thapa\")\n",
    "p.get_full_name()"
   ]
  },
  {
   "cell_type": "code",
   "execution_count": 9,
   "id": "008fc04b",
   "metadata": {},
   "outputs": [
    {
     "data": {
      "text/plain": [
       "'The fullname is Ram Thapa'"
      ]
     },
     "execution_count": 9,
     "metadata": {},
     "output_type": "execute_result"
    }
   ],
   "source": [
    "class Student(Person):\n",
    "    pass \n",
    "\n",
    "s = Student('Ram', 'Thapa')\n",
    "s.get_full_name()"
   ]
  },
  {
   "cell_type": "markdown",
   "id": "2dfb6c70",
   "metadata": {},
   "source": [
    "### The `super` function\n",
    "The `super()` function will make the child class inherit all the methods and properties from its parent."
   ]
  },
  {
   "cell_type": "code",
   "execution_count": 142,
   "id": "7bf535c6",
   "metadata": {},
   "outputs": [
    {
     "data": {
      "text/plain": [
       "'Ram Thapa from Everest'"
      ]
     },
     "execution_count": 142,
     "metadata": {},
     "output_type": "execute_result"
    }
   ],
   "source": [
    "class Person:\n",
    "    def __init__(self, fname, lname):\n",
    "        self.firstname = fname\n",
    "        self.lastname = lname\n",
    "\n",
    "class Student(Person):\n",
    "    def __init__(self, fname, lname, sname):\n",
    "        super().__init__(fname, lname)\n",
    "        self.schoolname = sname\n",
    "    \n",
    "    def student_detail(self):\n",
    "        return self.firstname +\" \"+self.lastname+\" from \"+self.schoolname\n",
    "\n",
    "x = Student(\"Ram\", \"Thapa\", \"Everest\")\n",
    "x.student_detail()"
   ]
  },
  {
   "cell_type": "markdown",
   "id": "67c2561f",
   "metadata": {},
   "source": [
    "### Some exercises on Class and Object"
   ]
  },
  {
   "cell_type": "markdown",
   "id": "a04184b3",
   "metadata": {},
   "source": [
    "- Create a class named `Player` with `init` parameters `name`, `country`.  \n",
    "- Create a derived class named `GoalKeeper` with `init` parameters same as `Player` as well as `goals_saved`.\n",
    "- Create a class function `keeper_info` in the `GoalKeeper` class that prints their info.\n",
    "- Create a derived class named `Striker`with `init` parameters same as `Player` as well as `goals_scored`. \n",
    "- Create a class function `striker_info` in the `Striker` class that prints their info.\n",
    "- Store the record of 2 goal keepers and 2 strikers by creating the corresponding objects.\n",
    "- The output should be like:  \n",
    "`Halland Norway Goals: 26`  \n",
    "`Neuer Germany Saved: 31`    "
   ]
  },
  {
   "cell_type": "code",
   "execution_count": 10,
   "id": "292b68eb",
   "metadata": {},
   "outputs": [
    {
     "name": "stdout",
     "output_type": "stream",
     "text": [
      "Halland Norway Goals: 26\n",
      "Neuer Germany Saved: 31\n"
     ]
    }
   ],
   "source": [
    "class Player():\n",
    "    def __init__(self, name, country):\n",
    "        self.name = name\n",
    "        self.country = country\n",
    "        \n",
    "class GoalKeeper(Player):\n",
    "    def __init__(self, name, country, goals_saved):\n",
    "        super().__init__(name, country)\n",
    "        self.goals_saved = goals_saved\n",
    "        \n",
    "    def keeper_info(self):\n",
    "        return self.name+' '+self.country+' Saved: '+str(self.goals_saved)\n",
    "\n",
    "class Striker(Player):\n",
    "    def __init__(self, name, country, goals_scored):\n",
    "        super().__init__(name, country)\n",
    "        self.goals_scored = goals_scored\n",
    "        \n",
    "    def striker_info(self):\n",
    "        return self.name+' '+self.country+' Goals: '+str(self.goals_scored)\n",
    "        \n",
    "a = Striker('Halland','Norway',26)\n",
    "print(a.striker_info())\n",
    "b = GoalKeeper('Neuer', 'Germany', 31)\n",
    "print(b.keeper_info())"
   ]
  },
  {
   "cell_type": "code",
   "execution_count": null,
   "id": "f523202e",
   "metadata": {},
   "outputs": [],
   "source": []
  }
 ],
 "metadata": {
  "kernelspec": {
   "display_name": "Python 3 (ipykernel)",
   "language": "python",
   "name": "python3"
  },
  "language_info": {
   "codemirror_mode": {
    "name": "ipython",
    "version": 3
   },
   "file_extension": ".py",
   "mimetype": "text/x-python",
   "name": "python",
   "nbconvert_exporter": "python",
   "pygments_lexer": "ipython3",
   "version": "3.8.10"
  }
 },
 "nbformat": 4,
 "nbformat_minor": 5
}
