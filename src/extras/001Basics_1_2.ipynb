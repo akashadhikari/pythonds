{
 "cells": [
  {
   "cell_type": "markdown",
   "id": "1b937926",
   "metadata": {},
   "source": [
    "## The foundations of Python\n",
    "\n",
    "Python is a general-purpose interpreted, interactive, object-oriented, and high-level programming language."
   ]
  },
  {
   "cell_type": "code",
   "execution_count": 1,
   "id": "c0f146a3",
   "metadata": {},
   "outputs": [
    {
     "name": "stdout",
     "output_type": "stream",
     "text": [
      "Hello Python\n"
     ]
    }
   ],
   "source": [
    "print(\"Hello Python\") # Code comment which is ignored by Python interpreter"
   ]
  },
  {
   "cell_type": "markdown",
   "id": "0cbf2aa4",
   "metadata": {},
   "source": [
    "### Variables\n",
    "You don't need to explicitly define the type of the variable."
   ]
  },
  {
   "cell_type": "code",
   "execution_count": 8,
   "id": "6e840b29",
   "metadata": {},
   "outputs": [],
   "source": [
    "x = 1\n",
    "y = 4.5\n",
    "z = \"Ram\""
   ]
  },
  {
   "cell_type": "code",
   "execution_count": 9,
   "id": "423d1f11",
   "metadata": {},
   "outputs": [
    {
     "data": {
      "text/plain": [
       "int"
      ]
     },
     "execution_count": 9,
     "metadata": {},
     "output_type": "execute_result"
    }
   ],
   "source": [
    "type(x)"
   ]
  },
  {
   "cell_type": "code",
   "execution_count": 10,
   "id": "cbd79b73",
   "metadata": {},
   "outputs": [
    {
     "data": {
      "text/plain": [
       "float"
      ]
     },
     "execution_count": 10,
     "metadata": {},
     "output_type": "execute_result"
    }
   ],
   "source": [
    "type(y)"
   ]
  },
  {
   "cell_type": "code",
   "execution_count": 11,
   "id": "7be4ebb6",
   "metadata": {},
   "outputs": [
    {
     "data": {
      "text/plain": [
       "str"
      ]
     },
     "execution_count": 11,
     "metadata": {},
     "output_type": "execute_result"
    }
   ],
   "source": [
    "type(z)"
   ]
  },
  {
   "cell_type": "code",
   "execution_count": 12,
   "id": "521f6dc2",
   "metadata": {},
   "outputs": [],
   "source": [
    "a = 4+5j"
   ]
  },
  {
   "cell_type": "code",
   "execution_count": 13,
   "id": "07ec5df1",
   "metadata": {},
   "outputs": [
    {
     "data": {
      "text/plain": [
       "complex"
      ]
     },
     "execution_count": 13,
     "metadata": {},
     "output_type": "execute_result"
    }
   ],
   "source": [
    "type(a)"
   ]
  },
  {
   "cell_type": "code",
   "execution_count": 14,
   "id": "ba2213ac",
   "metadata": {},
   "outputs": [],
   "source": [
    "b = 3+2j"
   ]
  },
  {
   "cell_type": "markdown",
   "id": "d9890f70",
   "metadata": {},
   "source": [
    "### Arithmetic Operators"
   ]
  },
  {
   "cell_type": "code",
   "execution_count": 15,
   "id": "e5f0ab35",
   "metadata": {},
   "outputs": [
    {
     "data": {
      "text/plain": [
       "(7+7j)"
      ]
     },
     "execution_count": 15,
     "metadata": {},
     "output_type": "execute_result"
    }
   ],
   "source": [
    "a+b # addition"
   ]
  },
  {
   "cell_type": "code",
   "execution_count": 26,
   "id": "99791ee3",
   "metadata": {},
   "outputs": [],
   "source": [
    "a=10\n",
    "b=7"
   ]
  },
  {
   "cell_type": "code",
   "execution_count": 27,
   "id": "5333dc85",
   "metadata": {},
   "outputs": [
    {
     "data": {
      "text/plain": [
       "17"
      ]
     },
     "execution_count": 27,
     "metadata": {},
     "output_type": "execute_result"
    }
   ],
   "source": [
    "a+b"
   ]
  },
  {
   "cell_type": "code",
   "execution_count": 28,
   "id": "427680e4",
   "metadata": {},
   "outputs": [
    {
     "data": {
      "text/plain": [
       "3"
      ]
     },
     "execution_count": 28,
     "metadata": {},
     "output_type": "execute_result"
    }
   ],
   "source": [
    "a-b"
   ]
  },
  {
   "cell_type": "code",
   "execution_count": 29,
   "id": "0c1bc4b2",
   "metadata": {},
   "outputs": [
    {
     "data": {
      "text/plain": [
       "70"
      ]
     },
     "execution_count": 29,
     "metadata": {},
     "output_type": "execute_result"
    }
   ],
   "source": [
    "a*b"
   ]
  },
  {
   "cell_type": "code",
   "execution_count": 30,
   "id": "dc490fd8",
   "metadata": {},
   "outputs": [
    {
     "data": {
      "text/plain": [
       "1.4285714285714286"
      ]
     },
     "execution_count": 30,
     "metadata": {},
     "output_type": "execute_result"
    }
   ],
   "source": [
    "a/b"
   ]
  },
  {
   "cell_type": "code",
   "execution_count": 31,
   "id": "cb3a2fd3",
   "metadata": {},
   "outputs": [
    {
     "data": {
      "text/plain": [
       "3"
      ]
     },
     "execution_count": 31,
     "metadata": {},
     "output_type": "execute_result"
    }
   ],
   "source": [
    "a%b # mod"
   ]
  },
  {
   "cell_type": "code",
   "execution_count": 32,
   "id": "242a1729",
   "metadata": {},
   "outputs": [
    {
     "data": {
      "text/plain": [
       "10000000"
      ]
     },
     "execution_count": 32,
     "metadata": {},
     "output_type": "execute_result"
    }
   ],
   "source": [
    "a**b # exponent"
   ]
  },
  {
   "cell_type": "code",
   "execution_count": 33,
   "id": "07d151de",
   "metadata": {},
   "outputs": [
    {
     "data": {
      "text/plain": [
       "1"
      ]
     },
     "execution_count": 33,
     "metadata": {},
     "output_type": "execute_result"
    }
   ],
   "source": [
    "a//b #floor division"
   ]
  },
  {
   "cell_type": "markdown",
   "id": "073280a2",
   "metadata": {},
   "source": [
    "### String operations in Python"
   ]
  },
  {
   "cell_type": "markdown",
   "id": "67c606ec",
   "metadata": {},
   "source": [
    "**The \"len\" function**"
   ]
  },
  {
   "cell_type": "code",
   "execution_count": 1,
   "id": "a07b479e",
   "metadata": {},
   "outputs": [
    {
     "data": {
      "text/plain": [
       "5"
      ]
     },
     "execution_count": 1,
     "metadata": {},
     "output_type": "execute_result"
    }
   ],
   "source": [
    "a = \"Akash\"\n",
    "len(a)"
   ]
  },
  {
   "cell_type": "markdown",
   "id": "dee27b9d",
   "metadata": {},
   "source": [
    "**Indexing and slicing**"
   ]
  },
  {
   "cell_type": "code",
   "execution_count": 2,
   "id": "0ba6797d",
   "metadata": {},
   "outputs": [],
   "source": [
    "a = \"yellow\""
   ]
  },
  {
   "cell_type": "code",
   "execution_count": 3,
   "id": "26e0983c",
   "metadata": {},
   "outputs": [
    {
     "data": {
      "text/plain": [
       "'e'"
      ]
     },
     "execution_count": 3,
     "metadata": {},
     "output_type": "execute_result"
    }
   ],
   "source": [
    "a[1]"
   ]
  },
  {
   "cell_type": "code",
   "execution_count": 4,
   "id": "8197e6a1",
   "metadata": {},
   "outputs": [
    {
     "data": {
      "text/plain": [
       "'w'"
      ]
     },
     "execution_count": 4,
     "metadata": {},
     "output_type": "execute_result"
    }
   ],
   "source": [
    "a[-1]"
   ]
  },
  {
   "cell_type": "code",
   "execution_count": 6,
   "id": "566801ad",
   "metadata": {},
   "outputs": [
    {
     "data": {
      "text/plain": [
       "'yell'"
      ]
     },
     "execution_count": 6,
     "metadata": {},
     "output_type": "execute_result"
    }
   ],
   "source": [
    "a[0:4]"
   ]
  },
  {
   "cell_type": "code",
   "execution_count": 7,
   "id": "7e2d23b9",
   "metadata": {},
   "outputs": [
    {
     "data": {
      "text/plain": [
       "'yell'"
      ]
     },
     "execution_count": 7,
     "metadata": {},
     "output_type": "execute_result"
    }
   ],
   "source": [
    "a[:4]"
   ]
  },
  {
   "cell_type": "markdown",
   "id": "34bbd874",
   "metadata": {},
   "source": [
    "**String concatination**"
   ]
  },
  {
   "cell_type": "code",
   "execution_count": 8,
   "id": "5c32a974",
   "metadata": {},
   "outputs": [],
   "source": [
    "x = \"Welcome \"\n",
    "y = \"to TechAxis\""
   ]
  },
  {
   "cell_type": "code",
   "execution_count": 9,
   "id": "f93dc952",
   "metadata": {},
   "outputs": [
    {
     "data": {
      "text/plain": [
       "'Welcome to TechAxis'"
      ]
     },
     "execution_count": 9,
     "metadata": {},
     "output_type": "execute_result"
    }
   ],
   "source": [
    "x+y"
   ]
  },
  {
   "cell_type": "markdown",
   "id": "a31ab4de",
   "metadata": {},
   "source": [
    "**The \"in\" syntax**"
   ]
  },
  {
   "cell_type": "code",
   "execution_count": 11,
   "id": "fdd087bf",
   "metadata": {},
   "outputs": [],
   "source": [
    "sentence = \"I love Python\""
   ]
  },
  {
   "cell_type": "code",
   "execution_count": 14,
   "id": "6d1d1f8d",
   "metadata": {},
   "outputs": [
    {
     "data": {
      "text/plain": [
       "True"
      ]
     },
     "execution_count": 14,
     "metadata": {},
     "output_type": "execute_result"
    }
   ],
   "source": [
    "\"love\" in sentence"
   ]
  },
  {
   "cell_type": "markdown",
   "id": "5dbf0ba1",
   "metadata": {},
   "source": [
    "**Iterate string** [Discuss Later]"
   ]
  },
  {
   "cell_type": "code",
   "execution_count": 18,
   "id": "d0802e8f",
   "metadata": {},
   "outputs": [],
   "source": [
    "word = \"TechAxis\""
   ]
  },
  {
   "cell_type": "code",
   "execution_count": 20,
   "id": "11deae1a",
   "metadata": {},
   "outputs": [
    {
     "name": "stdout",
     "output_type": "stream",
     "text": [
      "T\n",
      "e\n",
      "c\n",
      "h\n",
      "A\n",
      "x\n",
      "i\n",
      "s\n"
     ]
    }
   ],
   "source": [
    "for i in word:\n",
    "    print(i)"
   ]
  },
  {
   "cell_type": "markdown",
   "id": "a64f8a47",
   "metadata": {},
   "source": [
    "**String upper()**"
   ]
  },
  {
   "cell_type": "code",
   "execution_count": 21,
   "id": "11b23da7",
   "metadata": {},
   "outputs": [
    {
     "data": {
      "text/plain": [
       "'THIS IS WONDERFUL'"
      ]
     },
     "execution_count": 21,
     "metadata": {},
     "output_type": "execute_result"
    }
   ],
   "source": [
    "sentence = \"This is wonderful\"\n",
    "sentence.upper()"
   ]
  },
  {
   "cell_type": "markdown",
   "id": "545725cf",
   "metadata": {},
   "source": [
    "**String lower()**"
   ]
  },
  {
   "cell_type": "code",
   "execution_count": 24,
   "id": "ec8d9bf3",
   "metadata": {},
   "outputs": [
    {
     "data": {
      "text/plain": [
       "'this is techaxis'"
      ]
     },
     "execution_count": 24,
     "metadata": {},
     "output_type": "execute_result"
    }
   ],
   "source": [
    "sentence = \"This is Techaxis\"\n",
    "sentence.lower()"
   ]
  },
  {
   "cell_type": "code",
   "execution_count": 25,
   "id": "63a08141",
   "metadata": {},
   "outputs": [
    {
     "data": {
      "text/plain": [
       "'This is techaxis'"
      ]
     },
     "execution_count": 25,
     "metadata": {},
     "output_type": "execute_result"
    }
   ],
   "source": [
    "sentence = \"this is techaxis\"\n",
    "sentence.capitalize()"
   ]
  },
  {
   "cell_type": "markdown",
   "id": "1e9ed530",
   "metadata": {},
   "source": [
    "**String replace**"
   ]
  },
  {
   "cell_type": "code",
   "execution_count": 26,
   "id": "02dfd0b3",
   "metadata": {},
   "outputs": [
    {
     "data": {
      "text/plain": [
       "'StRawbeRRy'"
      ]
     },
     "execution_count": 26,
     "metadata": {},
     "output_type": "execute_result"
    }
   ],
   "source": [
    "fruit = \"Strawberry\"\n",
    "fruit.replace('r','R')"
   ]
  },
  {
   "cell_type": "markdown",
   "id": "69fa3671",
   "metadata": {},
   "source": [
    "**Escaping Character**"
   ]
  },
  {
   "cell_type": "code",
   "execution_count": 27,
   "id": "f016169b",
   "metadata": {},
   "outputs": [
    {
     "ename": "SyntaxError",
     "evalue": "invalid syntax (3046878288.py, line 1)",
     "output_type": "error",
     "traceback": [
      "\u001b[0;36m  File \u001b[0;32m\"/tmp/ipykernel_5460/3046878288.py\"\u001b[0;36m, line \u001b[0;32m1\u001b[0m\n\u001b[0;31m    text = \"She said \"Never let go\"\"\u001b[0m\n\u001b[0m                      ^\u001b[0m\n\u001b[0;31mSyntaxError\u001b[0m\u001b[0;31m:\u001b[0m invalid syntax\n"
     ]
    }
   ],
   "source": [
    "text = \"She said \"Never let go\"\"\n",
    "text"
   ]
  },
  {
   "cell_type": "code",
   "execution_count": 28,
   "id": "ab4662c4",
   "metadata": {},
   "outputs": [
    {
     "data": {
      "text/plain": [
       "'She said \"Never let go\"'"
      ]
     },
     "execution_count": 28,
     "metadata": {},
     "output_type": "execute_result"
    }
   ],
   "source": [
    "text = \"She said \\\"Never let go\\\"\"\n",
    "text"
   ]
  },
  {
   "cell_type": "markdown",
   "id": "90ee6588",
   "metadata": {},
   "source": [
    "**String Count**"
   ]
  },
  {
   "cell_type": "code",
   "execution_count": 31,
   "id": "71d9f568",
   "metadata": {},
   "outputs": [
    {
     "data": {
      "text/plain": [
       "2"
      ]
     },
     "execution_count": 31,
     "metadata": {},
     "output_type": "execute_result"
    }
   ],
   "source": [
    "name = \"Engineering\"\n",
    "name.count(\"e\")"
   ]
  },
  {
   "cell_type": "markdown",
   "id": "608ed57e",
   "metadata": {},
   "source": [
    "### Conditional if...else...elif"
   ]
  },
  {
   "cell_type": "code",
   "execution_count": 35,
   "id": "3602b41a",
   "metadata": {},
   "outputs": [
    {
     "name": "stdout",
     "output_type": "stream",
     "text": [
      "It is even\n"
     ]
    }
   ],
   "source": [
    "a = 50\n",
    " \n",
    "if a % 2 == 0:\n",
    "    print(\"It is even\")\n",
    "else:\n",
    "    print(\"It is odd\")"
   ]
  },
  {
   "cell_type": "markdown",
   "id": "673ab46f",
   "metadata": {},
   "source": [
    "**Discuss grading condition problem**"
   ]
  },
  {
   "cell_type": "markdown",
   "id": "e7dec65d",
   "metadata": {},
   "source": [
    "### For loops"
   ]
  },
  {
   "cell_type": "code",
   "execution_count": 38,
   "id": "766a82df",
   "metadata": {},
   "outputs": [
    {
     "name": "stdout",
     "output_type": "stream",
     "text": [
      "K\n",
      "a\n",
      "t\n",
      "h\n",
      "m\n",
      "a\n",
      "n\n",
      "d\n",
      "u\n"
     ]
    }
   ],
   "source": [
    "word = \"Kathmandu\"\n",
    "for i in word:\n",
    "    print(i)"
   ]
  },
  {
   "cell_type": "code",
   "execution_count": 42,
   "id": "a78bae6f",
   "metadata": {},
   "outputs": [
    {
     "name": "stdout",
     "output_type": "stream",
     "text": [
      "1\n",
      "2\n",
      "3\n",
      "4\n",
      "5\n",
      "6\n",
      "7\n",
      "8\n",
      "9\n"
     ]
    }
   ],
   "source": [
    "for i in range(1,10):\n",
    "    print(i)"
   ]
  },
  {
   "cell_type": "markdown",
   "id": "39ea4358",
   "metadata": {},
   "source": [
    "**Can you print odd numbers between 1 to 10?**"
   ]
  },
  {
   "cell_type": "code",
   "execution_count": null,
   "id": "aff1bde9",
   "metadata": {},
   "outputs": [],
   "source": []
  },
  {
   "cell_type": "markdown",
   "id": "5004b7d4",
   "metadata": {},
   "source": [
    "**Can you find the sum of numbers from 1 to 100?**"
   ]
  },
  {
   "cell_type": "markdown",
   "id": "9d754efd",
   "metadata": {},
   "source": [
    "### While loops"
   ]
  },
  {
   "cell_type": "code",
   "execution_count": 43,
   "id": "0226a00d",
   "metadata": {},
   "outputs": [
    {
     "name": "stdout",
     "output_type": "stream",
     "text": [
      "1\n",
      "2\n",
      "3\n",
      "4\n",
      "5\n",
      "6\n",
      "7\n",
      "8\n",
      "9\n",
      "10\n"
     ]
    }
   ],
   "source": [
    "i=1\n",
    "while(i<11):\n",
    "    print(i) # 1,2,3,4,5,6,7,8,9,10\n",
    "    i+=1"
   ]
  },
  {
   "cell_type": "markdown",
   "id": "80867e57",
   "metadata": {},
   "source": [
    "**Can you find the sum of numbers from 1 to 100?**"
   ]
  },
  {
   "cell_type": "markdown",
   "id": "b21bc475",
   "metadata": {},
   "source": [
    "**Can you print even numbers from 1 to 100?**"
   ]
  },
  {
   "cell_type": "code",
   "execution_count": null,
   "id": "96673fd5",
   "metadata": {},
   "outputs": [],
   "source": []
  }
 ],
 "metadata": {
  "kernelspec": {
   "display_name": "Python 3 (ipykernel)",
   "language": "python",
   "name": "python3"
  },
  "language_info": {
   "codemirror_mode": {
    "name": "ipython",
    "version": 3
   },
   "file_extension": ".py",
   "mimetype": "text/x-python",
   "name": "python",
   "nbconvert_exporter": "python",
   "pygments_lexer": "ipython3",
   "version": "3.8.10"
  }
 },
 "nbformat": 4,
 "nbformat_minor": 5
}
