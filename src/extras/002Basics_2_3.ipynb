{
 "cells": [
  {
   "cell_type": "markdown",
   "id": "8248f799",
   "metadata": {},
   "source": [
    "### Python data structure"
   ]
  },
  {
   "cell_type": "markdown",
   "id": "3ec9af20",
   "metadata": {},
   "source": [
    "**List**"
   ]
  },
  {
   "cell_type": "code",
   "execution_count": 1,
   "id": "9998d6ea",
   "metadata": {},
   "outputs": [],
   "source": [
    "a = [1,4,3,3,\"apple\",\"ball\"]"
   ]
  },
  {
   "cell_type": "code",
   "execution_count": 2,
   "id": "f92e3cf3",
   "metadata": {},
   "outputs": [
    {
     "data": {
      "text/plain": [
       "list"
      ]
     },
     "execution_count": 2,
     "metadata": {},
     "output_type": "execute_result"
    }
   ],
   "source": [
    "type(a)"
   ]
  },
  {
   "cell_type": "code",
   "execution_count": 3,
   "id": "39125d2c",
   "metadata": {},
   "outputs": [
    {
     "data": {
      "text/plain": [
       "'apple'"
      ]
     },
     "execution_count": 3,
     "metadata": {},
     "output_type": "execute_result"
    }
   ],
   "source": [
    "a[4]"
   ]
  },
  {
   "cell_type": "code",
   "execution_count": 4,
   "id": "45ed891a",
   "metadata": {},
   "outputs": [
    {
     "data": {
      "text/plain": [
       "[3, 3]"
      ]
     },
     "execution_count": 4,
     "metadata": {},
     "output_type": "execute_result"
    }
   ],
   "source": [
    "a[2:4]"
   ]
  },
  {
   "cell_type": "code",
   "execution_count": 5,
   "id": "01e7495a",
   "metadata": {},
   "outputs": [],
   "source": [
    "a = [1,3,[4,\"apple\", ['cat','bat']]]"
   ]
  },
  {
   "cell_type": "code",
   "execution_count": 6,
   "id": "dae3a13f",
   "metadata": {},
   "outputs": [
    {
     "data": {
      "text/plain": [
       "'bat'"
      ]
     },
     "execution_count": 6,
     "metadata": {},
     "output_type": "execute_result"
    }
   ],
   "source": [
    "a[2][2][1]"
   ]
  },
  {
   "cell_type": "markdown",
   "id": "fd4d4e7c",
   "metadata": {},
   "source": [
    "**How to access \"apple\"?**"
   ]
  },
  {
   "cell_type": "code",
   "execution_count": 7,
   "id": "b20f6c8f",
   "metadata": {},
   "outputs": [],
   "source": [
    "shopping_list = ['book','clothes']\n",
    "shopping_list.append('shoes')"
   ]
  },
  {
   "cell_type": "code",
   "execution_count": 8,
   "id": "6dae548f",
   "metadata": {},
   "outputs": [
    {
     "data": {
      "text/plain": [
       "['book', 'clothes', 'shoes']"
      ]
     },
     "execution_count": 8,
     "metadata": {},
     "output_type": "execute_result"
    }
   ],
   "source": [
    "shopping_list"
   ]
  },
  {
   "cell_type": "code",
   "execution_count": 9,
   "id": "b8a262e7",
   "metadata": {},
   "outputs": [
    {
     "data": {
      "text/plain": [
       "['book', 'clothes', 'shoes', 4]"
      ]
     },
     "execution_count": 9,
     "metadata": {},
     "output_type": "execute_result"
    }
   ],
   "source": [
    "shopping_list.append(4)\n",
    "shopping_list"
   ]
  },
  {
   "cell_type": "code",
   "execution_count": 10,
   "id": "9631efc7",
   "metadata": {},
   "outputs": [
    {
     "data": {
      "text/plain": [
       "['book', 'clothes', 'shoes', 4, [1, 2, 3]]"
      ]
     },
     "execution_count": 10,
     "metadata": {},
     "output_type": "execute_result"
    }
   ],
   "source": [
    "shopping_list.append([1,2,3])\n",
    "shopping_list"
   ]
  },
  {
   "cell_type": "markdown",
   "id": "14643f5d",
   "metadata": {},
   "source": [
    "**Appending to a specific index**"
   ]
  },
  {
   "cell_type": "code",
   "execution_count": 1,
   "id": "450721c3",
   "metadata": {},
   "outputs": [],
   "source": [
    "li = ['apple', 'ball', 'cat']"
   ]
  },
  {
   "cell_type": "code",
   "execution_count": 2,
   "id": "973df8bf",
   "metadata": {},
   "outputs": [
    {
     "data": {
      "text/plain": [
       "['apple', 'ball', 'cat']"
      ]
     },
     "execution_count": 2,
     "metadata": {},
     "output_type": "execute_result"
    }
   ],
   "source": [
    "li"
   ]
  },
  {
   "cell_type": "code",
   "execution_count": 3,
   "id": "98468709",
   "metadata": {},
   "outputs": [],
   "source": [
    "li.insert(2, 'dog')"
   ]
  },
  {
   "cell_type": "code",
   "execution_count": 4,
   "id": "fdfd4347",
   "metadata": {},
   "outputs": [
    {
     "data": {
      "text/plain": [
       "['apple', 'ball', 'dog', 'cat']"
      ]
     },
     "execution_count": 4,
     "metadata": {},
     "output_type": "execute_result"
    }
   ],
   "source": [
    "li"
   ]
  },
  {
   "cell_type": "markdown",
   "id": "e2f4e875",
   "metadata": {},
   "source": [
    "Can you insert a list `[4,5,6]` between `dog` and `cat` ?"
   ]
  },
  {
   "cell_type": "markdown",
   "id": "ea5c53ba",
   "metadata": {},
   "source": [
    "**List append exercise**"
   ]
  },
  {
   "cell_type": "markdown",
   "id": "318bc5b3",
   "metadata": {},
   "source": [
    "- Create an `old_list` ranging from values `1` to `10`.  \n",
    "- Create a blank `new_list = []`.  \n",
    "- Loop through the `old_list` and append only the even numbers to the `new_list`.  \n",
    "- Print the `new_list`.  "
   ]
  },
  {
   "cell_type": "code",
   "execution_count": 5,
   "id": "3f52153d",
   "metadata": {},
   "outputs": [],
   "source": [
    "old_list = [1,2,3,4,5,6,7,8,9,10]\n",
    "new_list = []\n",
    "for i in old_list:\n",
    "    if i%2==0:\n",
    "        new_list.append(i)"
   ]
  },
  {
   "cell_type": "code",
   "execution_count": 6,
   "id": "543b8ec2",
   "metadata": {},
   "outputs": [
    {
     "data": {
      "text/plain": [
       "[2, 4, 6, 8, 10]"
      ]
     },
     "execution_count": 6,
     "metadata": {},
     "output_type": "execute_result"
    }
   ],
   "source": [
    "new_list"
   ]
  },
  {
   "cell_type": "markdown",
   "id": "5748923b",
   "metadata": {},
   "source": [
    "**Delete a list element**"
   ]
  },
  {
   "cell_type": "code",
   "execution_count": 18,
   "id": "ba7d0c76",
   "metadata": {},
   "outputs": [
    {
     "data": {
      "text/plain": [
       "['apple', 'cat']"
      ]
     },
     "execution_count": 18,
     "metadata": {},
     "output_type": "execute_result"
    }
   ],
   "source": [
    "a = ['apple', 'ball', 'cat']\n",
    "a.pop(1) # pop based on index of list\n",
    "a"
   ]
  },
  {
   "cell_type": "markdown",
   "id": "d481e337",
   "metadata": {},
   "source": [
    "**Another way!**"
   ]
  },
  {
   "cell_type": "code",
   "execution_count": 19,
   "id": "e3aa9966",
   "metadata": {},
   "outputs": [],
   "source": [
    "a.remove('cat')"
   ]
  },
  {
   "cell_type": "code",
   "execution_count": 20,
   "id": "c84af748",
   "metadata": {},
   "outputs": [
    {
     "data": {
      "text/plain": [
       "['apple']"
      ]
     },
     "execution_count": 20,
     "metadata": {},
     "output_type": "execute_result"
    }
   ],
   "source": [
    "a"
   ]
  },
  {
   "cell_type": "markdown",
   "id": "46554b10",
   "metadata": {},
   "source": [
    "**Another way!!**"
   ]
  },
  {
   "cell_type": "code",
   "execution_count": 16,
   "id": "92e5b77f",
   "metadata": {},
   "outputs": [],
   "source": [
    "del a[0]"
   ]
  },
  {
   "cell_type": "code",
   "execution_count": 21,
   "id": "b0a4c9e0",
   "metadata": {},
   "outputs": [
    {
     "data": {
      "text/plain": [
       "[1, 'ball', 3, 4]"
      ]
     },
     "execution_count": 21,
     "metadata": {},
     "output_type": "execute_result"
    }
   ],
   "source": [
    "a = [1,'ball',3,4]\n",
    "a"
   ]
  },
  {
   "cell_type": "code",
   "execution_count": 23,
   "id": "b06c348e",
   "metadata": {},
   "outputs": [
    {
     "data": {
      "text/plain": [
       "[1, 'bat', 3, 4]"
      ]
     },
     "execution_count": 23,
     "metadata": {},
     "output_type": "execute_result"
    }
   ],
   "source": [
    "a[1] = 'bat'\n",
    "a"
   ]
  },
  {
   "cell_type": "code",
   "execution_count": 24,
   "id": "8f9c5eab",
   "metadata": {},
   "outputs": [
    {
     "data": {
      "text/plain": [
       "[1, 100, 3, 4]"
      ]
     },
     "execution_count": 24,
     "metadata": {},
     "output_type": "execute_result"
    }
   ],
   "source": [
    "a[1] = 100\n",
    "a"
   ]
  },
  {
   "cell_type": "markdown",
   "id": "2a349a80",
   "metadata": {},
   "source": [
    "**Dictionary**"
   ]
  },
  {
   "cell_type": "code",
   "execution_count": 28,
   "id": "bca1b7e5",
   "metadata": {},
   "outputs": [
    {
     "data": {
      "text/plain": [
       "10"
      ]
     },
     "execution_count": 28,
     "metadata": {},
     "output_type": "execute_result"
    }
   ],
   "source": [
    "a = ['Akash', 'Biratagar', 10]\n",
    "# list is identified by its index\n",
    "a[2]"
   ]
  },
  {
   "cell_type": "code",
   "execution_count": 29,
   "id": "11bb36da",
   "metadata": {},
   "outputs": [],
   "source": [
    "a = {\n",
    "    'name': 'Akash',\n",
    "    'address': 'Biratnagar',\n",
    "    'age': 16\n",
    "}"
   ]
  },
  {
   "cell_type": "code",
   "execution_count": 30,
   "id": "b67ccc50",
   "metadata": {},
   "outputs": [
    {
     "data": {
      "text/plain": [
       "dict"
      ]
     },
     "execution_count": 30,
     "metadata": {},
     "output_type": "execute_result"
    }
   ],
   "source": [
    "type(a)"
   ]
  },
  {
   "cell_type": "code",
   "execution_count": 31,
   "id": "18747019",
   "metadata": {},
   "outputs": [
    {
     "data": {
      "text/plain": [
       "{'name': 'Akash', 'address': 'Biratnagar', 'age': 16}"
      ]
     },
     "execution_count": 31,
     "metadata": {},
     "output_type": "execute_result"
    }
   ],
   "source": [
    "a"
   ]
  },
  {
   "cell_type": "code",
   "execution_count": 32,
   "id": "a6e767c3",
   "metadata": {},
   "outputs": [
    {
     "data": {
      "text/plain": [
       "'Akash'"
      ]
     },
     "execution_count": 32,
     "metadata": {},
     "output_type": "execute_result"
    }
   ],
   "source": [
    "a['name']"
   ]
  },
  {
   "cell_type": "code",
   "execution_count": 33,
   "id": "25670b5e",
   "metadata": {},
   "outputs": [
    {
     "data": {
      "text/plain": [
       "'Akash'"
      ]
     },
     "execution_count": 33,
     "metadata": {},
     "output_type": "execute_result"
    }
   ],
   "source": [
    "a.get('name')"
   ]
  },
  {
   "cell_type": "code",
   "execution_count": 36,
   "id": "7788b23e",
   "metadata": {},
   "outputs": [
    {
     "data": {
      "text/plain": [
       "'Biratnagar'"
      ]
     },
     "execution_count": 36,
     "metadata": {},
     "output_type": "execute_result"
    }
   ],
   "source": [
    "a['address']"
   ]
  },
  {
   "cell_type": "code",
   "execution_count": 37,
   "id": "2d009035",
   "metadata": {},
   "outputs": [
    {
     "data": {
      "text/plain": [
       "'Biratnagar'"
      ]
     },
     "execution_count": 37,
     "metadata": {},
     "output_type": "execute_result"
    }
   ],
   "source": [
    "a.get('address')"
   ]
  },
  {
   "cell_type": "code",
   "execution_count": 47,
   "id": "8ed47a38",
   "metadata": {},
   "outputs": [],
   "source": [
    "a = {\n",
    "    'name': 'Akash',\n",
    "    'address': 'Biratnagar',\n",
    "    'interests': ['programming', 'football', 'society and politics']\n",
    "}"
   ]
  },
  {
   "cell_type": "code",
   "execution_count": 48,
   "id": "c3389baf",
   "metadata": {},
   "outputs": [
    {
     "data": {
      "text/plain": [
       "'society and politics'"
      ]
     },
     "execution_count": 48,
     "metadata": {},
     "output_type": "execute_result"
    }
   ],
   "source": [
    "a['interests'][2]"
   ]
  },
  {
   "cell_type": "code",
   "execution_count": 29,
   "id": "413f2dd2",
   "metadata": {},
   "outputs": [
    {
     "data": {
      "text/plain": [
       "list"
      ]
     },
     "execution_count": 29,
     "metadata": {},
     "output_type": "execute_result"
    }
   ],
   "source": [
    "type(a.get('interests'))"
   ]
  },
  {
   "cell_type": "markdown",
   "id": "efe55de7",
   "metadata": {},
   "source": [
    "**How to access 'society and politics'?**"
   ]
  },
  {
   "cell_type": "markdown",
   "id": "e4fa6d37",
   "metadata": {},
   "source": [
    "Can we add data to the dictionary?"
   ]
  },
  {
   "cell_type": "code",
   "execution_count": 49,
   "id": "e0a376af",
   "metadata": {},
   "outputs": [
    {
     "data": {
      "text/plain": [
       "{'name': 'Akash',\n",
       " 'address': 'Biratnagar',\n",
       " 'interests': ['programming', 'football', 'society and politics']}"
      ]
     },
     "execution_count": 49,
     "metadata": {},
     "output_type": "execute_result"
    }
   ],
   "source": [
    "a"
   ]
  },
  {
   "cell_type": "code",
   "execution_count": 50,
   "id": "dcd35bea",
   "metadata": {},
   "outputs": [],
   "source": [
    "a['profession'] = 'Python dev'"
   ]
  },
  {
   "cell_type": "code",
   "execution_count": 51,
   "id": "b0589ac5",
   "metadata": {},
   "outputs": [
    {
     "data": {
      "text/plain": [
       "{'name': 'Akash',\n",
       " 'address': 'Biratnagar',\n",
       " 'interests': ['programming', 'football', 'society and politics'],\n",
       " 'profession': 'Python dev'}"
      ]
     },
     "execution_count": 51,
     "metadata": {},
     "output_type": "execute_result"
    }
   ],
   "source": [
    "a"
   ]
  },
  {
   "cell_type": "code",
   "execution_count": 33,
   "id": "9c3abde9",
   "metadata": {},
   "outputs": [],
   "source": [
    "a['profession'] = 'Python developer'"
   ]
  },
  {
   "cell_type": "code",
   "execution_count": 34,
   "id": "ab69ca2f",
   "metadata": {},
   "outputs": [
    {
     "data": {
      "text/plain": [
       "{'name': 'Akash',\n",
       " 'address': 'Biratnagar',\n",
       " 'interests': ['programming', 'football', 'society and politics'],\n",
       " 'profession': 'Python developer'}"
      ]
     },
     "execution_count": 34,
     "metadata": {},
     "output_type": "execute_result"
    }
   ],
   "source": [
    "a"
   ]
  },
  {
   "cell_type": "markdown",
   "id": "c46bb188",
   "metadata": {},
   "source": [
    "**Delete a dictionary key value**"
   ]
  },
  {
   "cell_type": "code",
   "execution_count": 35,
   "id": "721a25be",
   "metadata": {},
   "outputs": [],
   "source": [
    "del a['profession']"
   ]
  },
  {
   "cell_type": "code",
   "execution_count": 36,
   "id": "fa31cf3f",
   "metadata": {},
   "outputs": [
    {
     "data": {
      "text/plain": [
       "{'name': 'Akash',\n",
       " 'address': 'Biratnagar',\n",
       " 'interests': ['programming', 'football', 'society and politics']}"
      ]
     },
     "execution_count": 36,
     "metadata": {},
     "output_type": "execute_result"
    }
   ],
   "source": [
    "a"
   ]
  },
  {
   "cell_type": "markdown",
   "id": "6713293a",
   "metadata": {},
   "source": [
    "### Exercise on Dictionary"
   ]
  },
  {
   "cell_type": "markdown",
   "id": "372ef493",
   "metadata": {},
   "source": [
    "- Create a ditionary named `info` with initial data as `company`:`TechAxis` and `location`:`Kumaripati` and print the dictionary.\n",
    "-----------\n",
    "- Add a new key named `description`:`Tech Axis is a training institute` and print the dictionary.\n",
    "-----------\n",
    "- Add a new key named `courses` that contains the value in the form of list `['Python with Data Science','Python with Django','MERN stack development']` and print the dictionary.\n",
    "-----------\n",
    "- Delete a key `description` and print the dictionary.\n",
    "-----------\n",
    "- Edit/Change the course `MERN stack development` to `MERN Fullstack development` and print the dictionary."
   ]
  },
  {
   "cell_type": "code",
   "execution_count": 1,
   "id": "9225e285",
   "metadata": {},
   "outputs": [
    {
     "data": {
      "text/plain": [
       "{'company': 'TechAxis', 'location': 'Kumaripati'}"
      ]
     },
     "execution_count": 1,
     "metadata": {},
     "output_type": "execute_result"
    }
   ],
   "source": [
    "info = {\n",
    "    'company': 'TechAxis',\n",
    "    'location': 'Kumaripati'\n",
    "}\n",
    "info"
   ]
  },
  {
   "cell_type": "code",
   "execution_count": 2,
   "id": "f495e2d6",
   "metadata": {},
   "outputs": [
    {
     "data": {
      "text/plain": [
       "{'company': 'TechAxis',\n",
       " 'location': 'Kumaripati',\n",
       " 'description': 'Tech Axis is a training institute'}"
      ]
     },
     "execution_count": 2,
     "metadata": {},
     "output_type": "execute_result"
    }
   ],
   "source": [
    "info['description'] = 'Tech Axis is a training institute'\n",
    "info"
   ]
  },
  {
   "cell_type": "code",
   "execution_count": 3,
   "id": "37b79c76",
   "metadata": {},
   "outputs": [
    {
     "data": {
      "text/plain": [
       "{'company': 'TechAxis',\n",
       " 'location': 'Kumaripati',\n",
       " 'description': 'Tech Axis is a training institute',\n",
       " 'courses': ['Python with Data Science',\n",
       "  'Python with Django',\n",
       "  'MERN stack development']}"
      ]
     },
     "execution_count": 3,
     "metadata": {},
     "output_type": "execute_result"
    }
   ],
   "source": [
    "info['courses'] = ['Python with Data Science','Python with Django','MERN stack development']\n",
    "info"
   ]
  },
  {
   "cell_type": "code",
   "execution_count": 6,
   "id": "d4af50a9",
   "metadata": {},
   "outputs": [
    {
     "data": {
      "text/plain": [
       "{'company': 'TechAxis',\n",
       " 'location': 'Kumaripati',\n",
       " 'description': 'Tech Axis is a training institute',\n",
       " 'courses': ['Python with Data Science',\n",
       "  'Python with Django',\n",
       "  'MERN Fullstack development']}"
      ]
     },
     "execution_count": 6,
     "metadata": {},
     "output_type": "execute_result"
    }
   ],
   "source": [
    "info['courses'][2] = 'MERN Fullstack development'\n",
    "info"
   ]
  },
  {
   "cell_type": "markdown",
   "id": "8ca7531e",
   "metadata": {},
   "source": [
    "**Tulpe**  \n",
    "A tuple is a collection which is ordered and unchangeable.\n",
    "Therefore, unlike lists, they are immutable"
   ]
  },
  {
   "cell_type": "code",
   "execution_count": 29,
   "id": "cb876753",
   "metadata": {},
   "outputs": [],
   "source": [
    "a = (1,2)"
   ]
  },
  {
   "cell_type": "code",
   "execution_count": 31,
   "id": "8a63f587",
   "metadata": {},
   "outputs": [
    {
     "data": {
      "text/plain": [
       "tuple"
      ]
     },
     "execution_count": 31,
     "metadata": {},
     "output_type": "execute_result"
    }
   ],
   "source": [
    "type(a)"
   ]
  },
  {
   "cell_type": "code",
   "execution_count": 14,
   "id": "621b9e03",
   "metadata": {},
   "outputs": [
    {
     "data": {
      "text/plain": [
       "(1, 2, 'apple', 'cat', 5)"
      ]
     },
     "execution_count": 14,
     "metadata": {},
     "output_type": "execute_result"
    }
   ],
   "source": [
    "a = (1,2,'apple','cat',5)\n",
    "a"
   ]
  },
  {
   "cell_type": "code",
   "execution_count": 15,
   "id": "f8635a6f",
   "metadata": {},
   "outputs": [
    {
     "data": {
      "text/plain": [
       "5"
      ]
     },
     "execution_count": 15,
     "metadata": {},
     "output_type": "execute_result"
    }
   ],
   "source": [
    "len(a)"
   ]
  },
  {
   "cell_type": "code",
   "execution_count": 18,
   "id": "0385315a",
   "metadata": {},
   "outputs": [
    {
     "data": {
      "text/plain": [
       "'apple'"
      ]
     },
     "execution_count": 18,
     "metadata": {},
     "output_type": "execute_result"
    }
   ],
   "source": [
    "a[2]"
   ]
  },
  {
   "cell_type": "markdown",
   "id": "827533ca",
   "metadata": {},
   "source": [
    "Can we delete?"
   ]
  },
  {
   "cell_type": "code",
   "execution_count": 19,
   "id": "2f341165",
   "metadata": {},
   "outputs": [
    {
     "ename": "TypeError",
     "evalue": "'tuple' object doesn't support item deletion",
     "output_type": "error",
     "traceback": [
      "\u001b[0;31m---------------------------------------------------------------------------\u001b[0m",
      "\u001b[0;31mTypeError\u001b[0m                                 Traceback (most recent call last)",
      "\u001b[0;32m/tmp/ipykernel_5943/3074760810.py\u001b[0m in \u001b[0;36m<module>\u001b[0;34m\u001b[0m\n\u001b[0;32m----> 1\u001b[0;31m \u001b[0;32mdel\u001b[0m \u001b[0ma\u001b[0m\u001b[0;34m[\u001b[0m\u001b[0;36m0\u001b[0m\u001b[0;34m]\u001b[0m\u001b[0;34m\u001b[0m\u001b[0;34m\u001b[0m\u001b[0m\n\u001b[0m",
      "\u001b[0;31mTypeError\u001b[0m: 'tuple' object doesn't support item deletion"
     ]
    }
   ],
   "source": [
    "del a[0]"
   ]
  },
  {
   "cell_type": "code",
   "execution_count": 20,
   "id": "4ea3e9db",
   "metadata": {},
   "outputs": [
    {
     "data": {
      "text/plain": [
       "(1, 2, 'apple', 'cat', 5)"
      ]
     },
     "execution_count": 20,
     "metadata": {},
     "output_type": "execute_result"
    }
   ],
   "source": [
    "a"
   ]
  },
  {
   "cell_type": "markdown",
   "id": "bb5e29bc",
   "metadata": {},
   "source": [
    "Objects can be repeated"
   ]
  },
  {
   "cell_type": "code",
   "execution_count": null,
   "id": "28a99e78",
   "metadata": {},
   "outputs": [],
   "source": []
  },
  {
   "cell_type": "code",
   "execution_count": 24,
   "id": "9ff6ab0c",
   "metadata": {},
   "outputs": [
    {
     "data": {
      "text/plain": [
       "(1, 2, 'apple', 'cat', 5, 1, 2, 3)"
      ]
     },
     "execution_count": 24,
     "metadata": {},
     "output_type": "execute_result"
    }
   ],
   "source": [
    "a = (1,2,'apple','cat',5, 1,2,3)\n",
    "a"
   ]
  },
  {
   "cell_type": "markdown",
   "id": "32d0a657",
   "metadata": {},
   "source": [
    "**Set**"
   ]
  },
  {
   "cell_type": "code",
   "execution_count": 25,
   "id": "eab80727",
   "metadata": {},
   "outputs": [],
   "source": [
    "a = {1,2,3,4,5}"
   ]
  },
  {
   "cell_type": "code",
   "execution_count": 26,
   "id": "115f15b9",
   "metadata": {},
   "outputs": [
    {
     "data": {
      "text/plain": [
       "set"
      ]
     },
     "execution_count": 26,
     "metadata": {},
     "output_type": "execute_result"
    }
   ],
   "source": [
    "type(a)"
   ]
  },
  {
   "cell_type": "code",
   "execution_count": 74,
   "id": "9d61a45d",
   "metadata": {},
   "outputs": [
    {
     "data": {
      "text/plain": [
       "{1, 2, 3, 4, 5}"
      ]
     },
     "execution_count": 74,
     "metadata": {},
     "output_type": "execute_result"
    }
   ],
   "source": [
    "a"
   ]
  },
  {
   "cell_type": "code",
   "execution_count": 27,
   "id": "86e3610d",
   "metadata": {},
   "outputs": [],
   "source": [
    "a = {1,2,3,3,4,5,5,6,6,6,6,8}"
   ]
  },
  {
   "cell_type": "code",
   "execution_count": 28,
   "id": "adff70d2",
   "metadata": {},
   "outputs": [
    {
     "data": {
      "text/plain": [
       "{1, 2, 3, 4, 5, 6, 8}"
      ]
     },
     "execution_count": 28,
     "metadata": {},
     "output_type": "execute_result"
    }
   ],
   "source": [
    "a"
   ]
  },
  {
   "cell_type": "code",
   "execution_count": 33,
   "id": "b47abff7",
   "metadata": {},
   "outputs": [
    {
     "data": {
      "text/plain": [
       "{11, 13, 'cat'}"
      ]
     },
     "execution_count": 33,
     "metadata": {},
     "output_type": "execute_result"
    }
   ],
   "source": [
    "a = {11, 13, 'cat'}\n",
    "a"
   ]
  },
  {
   "cell_type": "code",
   "execution_count": 35,
   "id": "855fa1d7",
   "metadata": {},
   "outputs": [],
   "source": [
    "a.add(12)"
   ]
  },
  {
   "cell_type": "code",
   "execution_count": 37,
   "id": "2f44f6c3",
   "metadata": {},
   "outputs": [
    {
     "data": {
      "text/plain": [
       "{11, 12, 13, 'cat'}"
      ]
     },
     "execution_count": 37,
     "metadata": {},
     "output_type": "execute_result"
    }
   ],
   "source": [
    "a"
   ]
  },
  {
   "cell_type": "code",
   "execution_count": 38,
   "id": "c3ee8ad6",
   "metadata": {},
   "outputs": [],
   "source": [
    "a.add(13)"
   ]
  },
  {
   "cell_type": "code",
   "execution_count": 39,
   "id": "18aad315",
   "metadata": {},
   "outputs": [
    {
     "data": {
      "text/plain": [
       "{11, 12, 13, 'cat'}"
      ]
     },
     "execution_count": 39,
     "metadata": {},
     "output_type": "execute_result"
    }
   ],
   "source": [
    "a"
   ]
  },
  {
   "cell_type": "code",
   "execution_count": 40,
   "id": "62c35955",
   "metadata": {},
   "outputs": [],
   "source": [
    "a.remove(13)"
   ]
  },
  {
   "cell_type": "code",
   "execution_count": 46,
   "id": "0b7ef9c8",
   "metadata": {},
   "outputs": [
    {
     "data": {
      "text/plain": [
       "{11, 12, 'cat'}"
      ]
     },
     "execution_count": 46,
     "metadata": {},
     "output_type": "execute_result"
    }
   ],
   "source": [
    "a"
   ]
  },
  {
   "cell_type": "markdown",
   "id": "e50cbed4",
   "metadata": {},
   "source": [
    "Can we `update` the data in set?  \n",
    "Short answer NO!"
   ]
  },
  {
   "cell_type": "code",
   "execution_count": 45,
   "id": "af567c41",
   "metadata": {},
   "outputs": [
    {
     "ename": "TypeError",
     "evalue": "'set' object is not subscriptable",
     "output_type": "error",
     "traceback": [
      "\u001b[0;31m---------------------------------------------------------------------------\u001b[0m",
      "\u001b[0;31mTypeError\u001b[0m                                 Traceback (most recent call last)",
      "\u001b[0;32m/tmp/ipykernel_5943/240059899.py\u001b[0m in \u001b[0;36m<module>\u001b[0;34m\u001b[0m\n\u001b[0;32m----> 1\u001b[0;31m \u001b[0ma\u001b[0m\u001b[0;34m[\u001b[0m\u001b[0;36m1\u001b[0m\u001b[0;34m]\u001b[0m\u001b[0;34m\u001b[0m\u001b[0;34m\u001b[0m\u001b[0m\n\u001b[0m",
      "\u001b[0;31mTypeError\u001b[0m: 'set' object is not subscriptable"
     ]
    }
   ],
   "source": [
    "a[1]"
   ]
  },
  {
   "cell_type": "markdown",
   "id": "f2adb933",
   "metadata": {},
   "source": [
    "However, there is an `update` function in set."
   ]
  },
  {
   "cell_type": "code",
   "execution_count": 48,
   "id": "aa2a359f",
   "metadata": {},
   "outputs": [
    {
     "data": {
      "text/plain": [
       "{1, 11, 12, 2, 3, 'cat'}"
      ]
     },
     "execution_count": 48,
     "metadata": {},
     "output_type": "execute_result"
    }
   ],
   "source": [
    "a.update([1,2,3]) # append\n",
    "a"
   ]
  },
  {
   "cell_type": "code",
   "execution_count": null,
   "id": "9a6f0d99",
   "metadata": {},
   "outputs": [],
   "source": []
  }
 ],
 "metadata": {
  "kernelspec": {
   "display_name": "Python 3 (ipykernel)",
   "language": "python",
   "name": "python3"
  },
  "language_info": {
   "codemirror_mode": {
    "name": "ipython",
    "version": 3
   },
   "file_extension": ".py",
   "mimetype": "text/x-python",
   "name": "python",
   "nbconvert_exporter": "python",
   "pygments_lexer": "ipython3",
   "version": "3.8.10"
  }
 },
 "nbformat": 4,
 "nbformat_minor": 5
}
