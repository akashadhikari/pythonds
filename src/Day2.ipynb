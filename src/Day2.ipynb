{
 "cells": [
  {
   "cell_type": "markdown",
   "id": "c0ef5529",
   "metadata": {},
   "source": [
    "### Functions"
   ]
  },
  {
   "cell_type": "code",
   "execution_count": 1,
   "id": "7b5ee6c9",
   "metadata": {},
   "outputs": [],
   "source": [
    "def addition(a,b):\n",
    "    return a+b"
   ]
  },
  {
   "cell_type": "code",
   "execution_count": 2,
   "id": "8de14046",
   "metadata": {},
   "outputs": [
    {
     "data": {
      "text/plain": [
       "9"
      ]
     },
     "execution_count": 2,
     "metadata": {},
     "output_type": "execute_result"
    }
   ],
   "source": [
    "addition(4,5)"
   ]
  },
  {
   "cell_type": "code",
   "execution_count": 3,
   "id": "54339d39",
   "metadata": {},
   "outputs": [],
   "source": [
    "def football(*args):\n",
    "    return args"
   ]
  },
  {
   "cell_type": "code",
   "execution_count": 4,
   "id": "d40b4a1c",
   "metadata": {},
   "outputs": [
    {
     "data": {
      "text/plain": [
       "('Arsenal',)"
      ]
     },
     "execution_count": 4,
     "metadata": {},
     "output_type": "execute_result"
    }
   ],
   "source": [
    "football('Arsenal')"
   ]
  },
  {
   "cell_type": "code",
   "execution_count": 5,
   "id": "712374f1",
   "metadata": {},
   "outputs": [
    {
     "data": {
      "text/plain": [
       "('Arsenal', 'Man City')"
      ]
     },
     "execution_count": 5,
     "metadata": {},
     "output_type": "execute_result"
    }
   ],
   "source": [
    "football('Arsenal','Man City')"
   ]
  },
  {
   "cell_type": "code",
   "execution_count": 6,
   "id": "56a4f79b",
   "metadata": {},
   "outputs": [
    {
     "data": {
      "text/plain": [
       "('Arsenal', 'Man City', 'Liverpool', 'Man Utd', 'Chelsea')"
      ]
     },
     "execution_count": 6,
     "metadata": {},
     "output_type": "execute_result"
    }
   ],
   "source": [
    "football('Arsenal','Man City', 'Liverpool', 'Man Utd', 'Chelsea')"
   ]
  },
  {
   "cell_type": "markdown",
   "id": "b9008b43",
   "metadata": {},
   "source": [
    "**Write a function called \"greeting\" that takes the name of the user and greets \"Hello {{user}} nice to meet you\"**"
   ]
  },
  {
   "cell_type": "code",
   "execution_count": 7,
   "id": "410d6a83",
   "metadata": {},
   "outputs": [
    {
     "data": {
      "text/plain": [
       "'Hello Akash nice to meet you.'"
      ]
     },
     "execution_count": 7,
     "metadata": {},
     "output_type": "execute_result"
    }
   ],
   "source": [
    "def greeting(name):\n",
    "    return \"Hello \" + name + \" nice to meet you.\"\n",
    "\n",
    "greeting(\"Akash\")"
   ]
  },
  {
   "cell_type": "markdown",
   "id": "2af1022a",
   "metadata": {},
   "source": [
    "### Module (Discuss)"
   ]
  },
  {
   "cell_type": "markdown",
   "id": "8248f799",
   "metadata": {},
   "source": [
    "### Python data structure"
   ]
  },
  {
   "cell_type": "markdown",
   "id": "3ec9af20",
   "metadata": {},
   "source": [
    "**List**"
   ]
  },
  {
   "cell_type": "code",
   "execution_count": 8,
   "id": "9998d6ea",
   "metadata": {},
   "outputs": [],
   "source": [
    "a = [1,4,3,3,\"apple\",\"ball\"]"
   ]
  },
  {
   "cell_type": "code",
   "execution_count": 9,
   "id": "f92e3cf3",
   "metadata": {},
   "outputs": [
    {
     "data": {
      "text/plain": [
       "list"
      ]
     },
     "execution_count": 9,
     "metadata": {},
     "output_type": "execute_result"
    }
   ],
   "source": [
    "type(a)"
   ]
  },
  {
   "cell_type": "code",
   "execution_count": 10,
   "id": "39125d2c",
   "metadata": {},
   "outputs": [
    {
     "data": {
      "text/plain": [
       "'apple'"
      ]
     },
     "execution_count": 10,
     "metadata": {},
     "output_type": "execute_result"
    }
   ],
   "source": [
    "a[4]"
   ]
  },
  {
   "cell_type": "code",
   "execution_count": 11,
   "id": "45ed891a",
   "metadata": {},
   "outputs": [
    {
     "data": {
      "text/plain": [
       "[3, 3]"
      ]
     },
     "execution_count": 11,
     "metadata": {},
     "output_type": "execute_result"
    }
   ],
   "source": [
    "a[2:4]"
   ]
  },
  {
   "cell_type": "code",
   "execution_count": 12,
   "id": "01e7495a",
   "metadata": {},
   "outputs": [],
   "source": [
    "a = [1,3,[4,\"apple\"]]"
   ]
  },
  {
   "cell_type": "code",
   "execution_count": 13,
   "id": "dae3a13f",
   "metadata": {},
   "outputs": [
    {
     "data": {
      "text/plain": [
       "[4, 'apple']"
      ]
     },
     "execution_count": 13,
     "metadata": {},
     "output_type": "execute_result"
    }
   ],
   "source": [
    "a[2]"
   ]
  },
  {
   "cell_type": "markdown",
   "id": "fd4d4e7c",
   "metadata": {},
   "source": [
    "**How to access \"apple\"?**"
   ]
  },
  {
   "cell_type": "code",
   "execution_count": 14,
   "id": "6aa5b314",
   "metadata": {},
   "outputs": [],
   "source": [
    "a.append(5)"
   ]
  },
  {
   "cell_type": "code",
   "execution_count": 15,
   "id": "71052e73",
   "metadata": {},
   "outputs": [
    {
     "data": {
      "text/plain": [
       "[1, 3, [4, 'apple'], 5]"
      ]
     },
     "execution_count": 15,
     "metadata": {},
     "output_type": "execute_result"
    }
   ],
   "source": [
    "a"
   ]
  },
  {
   "cell_type": "code",
   "execution_count": 16,
   "id": "d3737869",
   "metadata": {},
   "outputs": [
    {
     "data": {
      "text/plain": [
       "[1, 2, [4, 'apple'], 5]"
      ]
     },
     "execution_count": 16,
     "metadata": {},
     "output_type": "execute_result"
    }
   ],
   "source": [
    "a[1] = 2\n",
    "a"
   ]
  },
  {
   "cell_type": "markdown",
   "id": "14643f5d",
   "metadata": {},
   "source": [
    "**Creating new list and appending to it**"
   ]
  },
  {
   "cell_type": "code",
   "execution_count": 17,
   "id": "450721c3",
   "metadata": {},
   "outputs": [],
   "source": [
    "li = []"
   ]
  },
  {
   "cell_type": "code",
   "execution_count": 18,
   "id": "973df8bf",
   "metadata": {},
   "outputs": [],
   "source": [
    "li.append(5)"
   ]
  },
  {
   "cell_type": "code",
   "execution_count": 19,
   "id": "98468709",
   "metadata": {},
   "outputs": [
    {
     "data": {
      "text/plain": [
       "[5]"
      ]
     },
     "execution_count": 19,
     "metadata": {},
     "output_type": "execute_result"
    }
   ],
   "source": [
    "li"
   ]
  },
  {
   "cell_type": "code",
   "execution_count": 20,
   "id": "fdfd4347",
   "metadata": {},
   "outputs": [],
   "source": [
    "li.append('apple')"
   ]
  },
  {
   "cell_type": "code",
   "execution_count": 21,
   "id": "21996ec9",
   "metadata": {},
   "outputs": [
    {
     "data": {
      "text/plain": [
       "[5, 'apple']"
      ]
     },
     "execution_count": 21,
     "metadata": {},
     "output_type": "execute_result"
    }
   ],
   "source": [
    "li"
   ]
  },
  {
   "cell_type": "markdown",
   "id": "ea5c53ba",
   "metadata": {},
   "source": [
    "**List append exercise**"
   ]
  },
  {
   "cell_type": "code",
   "execution_count": null,
   "id": "bdf7b835",
   "metadata": {},
   "outputs": [],
   "source": [
    "old_list = [1,2,3,4,5,6,7,8,9,10]\n",
    "li = []\n",
    "for i in old_list:\n",
    "    if i%2==0:\n",
    "        li.append(i)\n",
    "li"
   ]
  },
  {
   "cell_type": "markdown",
   "id": "2a349a80",
   "metadata": {},
   "source": [
    "**Dictionary**"
   ]
  },
  {
   "cell_type": "code",
   "execution_count": 23,
   "id": "11bb36da",
   "metadata": {},
   "outputs": [],
   "source": [
    "a = {\n",
    "    'name': 'Akash',\n",
    "    'address': 'Biratnagar',\n",
    "    'age': 10\n",
    "}"
   ]
  },
  {
   "cell_type": "code",
   "execution_count": 24,
   "id": "c82d6807",
   "metadata": {},
   "outputs": [
    {
     "data": {
      "text/plain": [
       "dict"
      ]
     },
     "execution_count": 24,
     "metadata": {},
     "output_type": "execute_result"
    }
   ],
   "source": [
    "type(a)"
   ]
  },
  {
   "cell_type": "code",
   "execution_count": 25,
   "id": "a6e767c3",
   "metadata": {},
   "outputs": [
    {
     "data": {
      "text/plain": [
       "'Akash'"
      ]
     },
     "execution_count": 25,
     "metadata": {},
     "output_type": "execute_result"
    }
   ],
   "source": [
    "a['name']"
   ]
  },
  {
   "cell_type": "code",
   "execution_count": 26,
   "id": "25670b5e",
   "metadata": {},
   "outputs": [
    {
     "data": {
      "text/plain": [
       "'Akash'"
      ]
     },
     "execution_count": 26,
     "metadata": {},
     "output_type": "execute_result"
    }
   ],
   "source": [
    "a.get('name')"
   ]
  },
  {
   "cell_type": "code",
   "execution_count": 30,
   "id": "2d009035",
   "metadata": {},
   "outputs": [
    {
     "data": {
      "text/plain": [
       "'Biratnagar'"
      ]
     },
     "execution_count": 30,
     "metadata": {},
     "output_type": "execute_result"
    }
   ],
   "source": [
    "a.get('address')"
   ]
  },
  {
   "cell_type": "code",
   "execution_count": 31,
   "id": "8ed47a38",
   "metadata": {},
   "outputs": [],
   "source": [
    "a = {\n",
    "    'name': 'Akash',\n",
    "    'address': 'Biratnagar',\n",
    "    'interests': ['programming', 'football', 'society and politics']\n",
    "}"
   ]
  },
  {
   "cell_type": "code",
   "execution_count": 34,
   "id": "9da99ea4",
   "metadata": {},
   "outputs": [
    {
     "data": {
      "text/plain": [
       "['programming', 'football', 'society and politics']"
      ]
     },
     "execution_count": 34,
     "metadata": {},
     "output_type": "execute_result"
    }
   ],
   "source": [
    "a.get('interests')"
   ]
  },
  {
   "cell_type": "code",
   "execution_count": 35,
   "id": "413f2dd2",
   "metadata": {},
   "outputs": [
    {
     "data": {
      "text/plain": [
       "list"
      ]
     },
     "execution_count": 35,
     "metadata": {},
     "output_type": "execute_result"
    }
   ],
   "source": [
    "type(a.get('interests'))"
   ]
  },
  {
   "cell_type": "markdown",
   "id": "efe55de7",
   "metadata": {},
   "source": [
    "**How to access 'society and politics'?**"
   ]
  },
  {
   "cell_type": "markdown",
   "id": "8ca7531e",
   "metadata": {},
   "source": [
    "**Tulpe**  \n",
    "Unlike lists, they are immutable"
   ]
  },
  {
   "cell_type": "code",
   "execution_count": 36,
   "id": "cb876753",
   "metadata": {},
   "outputs": [],
   "source": [
    "a = (1,2)"
   ]
  },
  {
   "cell_type": "code",
   "execution_count": 37,
   "id": "8a63f587",
   "metadata": {},
   "outputs": [
    {
     "data": {
      "text/plain": [
       "tuple"
      ]
     },
     "execution_count": 37,
     "metadata": {},
     "output_type": "execute_result"
    }
   ],
   "source": [
    "type(a)"
   ]
  },
  {
   "cell_type": "markdown",
   "id": "32d0a657",
   "metadata": {},
   "source": [
    "**Set**"
   ]
  },
  {
   "cell_type": "code",
   "execution_count": 38,
   "id": "86e3610d",
   "metadata": {},
   "outputs": [],
   "source": [
    "a = {1,2,3,3,4,5,5,6,6,6,6,8}"
   ]
  },
  {
   "cell_type": "code",
   "execution_count": 39,
   "id": "adff70d2",
   "metadata": {},
   "outputs": [
    {
     "data": {
      "text/plain": [
       "{1, 2, 3, 4, 5, 6, 8}"
      ]
     },
     "execution_count": 39,
     "metadata": {},
     "output_type": "execute_result"
    }
   ],
   "source": [
    "a"
   ]
  },
  {
   "cell_type": "markdown",
   "id": "a3fbc66b",
   "metadata": {},
   "source": [
    "### Basic class and object\n",
    "\n",
    "All classes have a function called __init__(), which is always executed when the class is being initiated.\n",
    "\n",
    "Use the __init__() function to assign values to object properties, or other operations that are necessary to do when the object is being created:"
   ]
  },
  {
   "cell_type": "code",
   "execution_count": null,
   "id": "b243db6b",
   "metadata": {},
   "outputs": [],
   "source": [
    "class Person:\n",
    "    def __init__(self, name, age):\n",
    "        self.name = name\n",
    "        self.age = age\n",
    "\n",
    "p1 = Person(\"John\", 36)"
   ]
  },
  {
   "cell_type": "code",
   "execution_count": null,
   "id": "c818d2f0",
   "metadata": {},
   "outputs": [],
   "source": [
    "p1.name"
   ]
  },
  {
   "cell_type": "code",
   "execution_count": null,
   "id": "20a0dcb2",
   "metadata": {},
   "outputs": [],
   "source": [
    "p1.age"
   ]
  },
  {
   "cell_type": "code",
   "execution_count": null,
   "id": "0aa8d85b",
   "metadata": {},
   "outputs": [],
   "source": [
    "type(p1)"
   ]
  },
  {
   "cell_type": "code",
   "execution_count": null,
   "id": "8765ff2b",
   "metadata": {},
   "outputs": [],
   "source": [
    "class Person:\n",
    "    \n",
    "    def __init__(self, name, age):\n",
    "        self.name = name\n",
    "        self.age = age\n",
    "    \n",
    "    def myfunc(self):\n",
    "        print(\"Hello my name is \" + self.name)\n",
    "\n",
    "p1 = Person(\"John\", 36)\n",
    "p1.myfunc()"
   ]
  },
  {
   "cell_type": "code",
   "execution_count": null,
   "id": "9a36264d",
   "metadata": {},
   "outputs": [],
   "source": []
  },
  {
   "cell_type": "code",
   "execution_count": null,
   "id": "80258b1a",
   "metadata": {},
   "outputs": [],
   "source": []
  }
 ],
 "metadata": {
  "kernelspec": {
   "display_name": "Python 3 (ipykernel)",
   "language": "python",
   "name": "python3"
  },
  "language_info": {
   "codemirror_mode": {
    "name": "ipython",
    "version": 3
   },
   "file_extension": ".py",
   "mimetype": "text/x-python",
   "name": "python",
   "nbconvert_exporter": "python",
   "pygments_lexer": "ipython3",
   "version": "3.8.10"
  }
 },
 "nbformat": 4,
 "nbformat_minor": 5
}
