{
 "cells": [
  {
   "cell_type": "markdown",
   "id": "b94a1446",
   "metadata": {},
   "source": [
    "### Linear Regression Example"
   ]
  },
  {
   "cell_type": "code",
   "execution_count": 3,
   "id": "2a8281af",
   "metadata": {},
   "outputs": [
    {
     "data": {
      "image/png": "[encoded data removed]",
      "text/plain": [
       "<Figure size 432x288 with 1 Axes>"
      ]
     },
     "metadata": {
      "needs_background": "light"
     },
     "output_type": "display_data"
    }
   ],
   "source": [
    "import matplotlib.pyplot as plt\n",
    "\n",
    "x = [4,3,3,3,6,4,5,4,5,1,2,2,3]\n",
    "y = [99,86,87,88,111,86,103,87,94,78,77,85,86]\n",
    "plt.xlabel(\"Years of experience\")\n",
    "plt.ylabel(\"Annual salary in dollars\")\n",
    "plt.scatter(x, y)\n",
    "plt.show()"
   ]
  },
  {
   "cell_type": "code",
   "execution_count": 4,
   "id": "c3c678eb",
   "metadata": {},
   "outputs": [],
   "source": [
    "import matplotlib.pyplot as plt\n",
    "from scipy import stats\n",
    "\n",
    "x = [4,3,3,3,6,4,5,4,5,1,2,2,3]\n",
    "y = [99,86,87,88,111,86,103,87,94,78,77,85,86]"
   ]
  },
  {
   "cell_type": "code",
   "execution_count": 5,
   "id": "faef9939",
   "metadata": {},
   "outputs": [
    {
     "data": {
      "text/plain": [
       "LinregressResult(slope=6.129139072847682, intercept=68.55298013245033, rvalue=0.8849703224497454, pvalue=5.810623905098796e-05, stderr=0.9723701896495633, intercept_stderr=3.6081657138701364)"
      ]
     },
     "execution_count": 5,
     "metadata": {},
     "output_type": "execute_result"
    }
   ],
   "source": [
    "stats.linregress(x, y)"
   ]
  },
  {
   "cell_type": "code",
   "execution_count": 6,
   "id": "98916679",
   "metadata": {},
   "outputs": [],
   "source": [
    "slope, intercept, r, p, std_err = stats.linregress(x, y)"
   ]
  },
  {
   "cell_type": "code",
   "execution_count": 25,
   "id": "3b18f9d3",
   "metadata": {},
   "outputs": [
    {
     "data": {
      "text/plain": [
       "<map at 0x7fbc3a2d4d90>"
      ]
     },
     "execution_count": 25,
     "metadata": {},
     "output_type": "execute_result"
    }
   ],
   "source": [
    "def myfunc(x):\n",
    "    return slope * x + intercept # y = mx +c\n",
    "\n",
    "map(myfunc, x)"
   ]
  },
  {
   "cell_type": "code",
   "execution_count": 26,
   "id": "95e9dec4",
   "metadata": {},
   "outputs": [
    {
     "data": {
      "text/plain": [
       "[93.06953642384106,\n",
       " 86.94039735099338,\n",
       " 86.94039735099338,\n",
       " 86.94039735099338,\n",
       " 105.32781456953643,\n",
       " 93.06953642384106,\n",
       " 99.19867549668874,\n",
       " 93.06953642384106,\n",
       " 99.19867549668874,\n",
       " 74.68211920529801,\n",
       " 80.81125827814569,\n",
       " 80.81125827814569,\n",
       " 86.94039735099338]"
      ]
     },
     "execution_count": 26,
     "metadata": {},
     "output_type": "execute_result"
    }
   ],
   "source": [
    "mymodel = list(map(myfunc, x))\n",
    "mymodel"
   ]
  },
  {
   "cell_type": "code",
   "execution_count": 21,
   "id": "5ba8802b",
   "metadata": {},
   "outputs": [
    {
     "data": {
      "image/png": "[encoded data removed]",
      "text/plain": [
       "<Figure size 432x288 with 1 Axes>"
      ]
     },
     "metadata": {
      "needs_background": "light"
     },
     "output_type": "display_data"
    }
   ],
   "source": [
    "plt.scatter(x, y) ## scatter plot\n",
    "plt.plot(x, mymodel) ## line plot\n",
    "plt.show()"
   ]
  },
  {
   "cell_type": "markdown",
   "id": "6304e22b",
   "metadata": {},
   "source": [
    "### Let's discover \"r\""
   ]
  },
  {
   "cell_type": "code",
   "execution_count": 28,
   "id": "03e67f62",
   "metadata": {},
   "outputs": [
    {
     "data": {
      "text/plain": [
       "0.8849703224497454"
      ]
     },
     "execution_count": 28,
     "metadata": {},
     "output_type": "execute_result"
    }
   ],
   "source": [
    "r"
   ]
  },
  {
   "cell_type": "markdown",
   "id": "174d56d2",
   "metadata": {},
   "source": [
    "### Getting the salary value of a particular \"year\" experience"
   ]
  },
  {
   "cell_type": "code",
   "execution_count": 29,
   "id": "ebc0f907",
   "metadata": {},
   "outputs": [
    {
     "name": "stdout",
     "output_type": "stream",
     "text": [
      "129.84437086092714\n"
     ]
    }
   ],
   "source": [
    "from scipy import stats\n",
    "\n",
    "x = [4,3,3,3,6,4,5,4,5,1,2,2,3]\n",
    "y = [99,86,87,88,111,86,103,87,94,78,77,85,86]\n",
    "\n",
    "slope, intercept, r, p, std_err = stats.linregress(x, y)\n",
    "\n",
    "def myfunc(x):\n",
    "    return slope * x + intercept\n",
    "\n",
    "salary = myfunc(10)\n",
    "\n",
    "print(salary)"
   ]
  },
  {
   "cell_type": "markdown",
   "id": "b26dc007",
   "metadata": {},
   "source": [
    "### Let's say we get such graph"
   ]
  },
  {
   "cell_type": "code",
   "execution_count": 29,
   "id": "9f61a62b",
   "metadata": {},
   "outputs": [
    {
     "data": {
      "image/png": "[encoded data removed]",
      "text/plain": [
       "<Figure size 432x288 with 1 Axes>"
      ]
     },
     "metadata": {
      "needs_background": "light"
     },
     "output_type": "display_data"
    }
   ],
   "source": [
    "import matplotlib.pyplot as plt\n",
    "from scipy import stats\n",
    "\n",
    "x = [89,43,36,36,95,10,66,34,38,20,26,29,48,64,6,5,36,66,72,40]\n",
    "y = [21,46,3,35,67,95,53,72,58,10,26,34,90,33,38,20,56,2,47,15]\n",
    "plt.scatter(x, y)\n",
    "plt.show()"
   ]
  },
  {
   "cell_type": "code",
   "execution_count": 30,
   "id": "71db684a",
   "metadata": {},
   "outputs": [],
   "source": [
    "x = stats.linregress(x, y)"
   ]
  },
  {
   "cell_type": "code",
   "execution_count": 31,
   "id": "8131cd7a",
   "metadata": {},
   "outputs": [
    {
     "data": {
      "text/plain": [
       "0.01331814154297491"
      ]
     },
     "execution_count": 31,
     "metadata": {},
     "output_type": "execute_result"
    }
   ],
   "source": [
    "x.rvalue # 0.01 ~ 0"
   ]
  },
  {
   "cell_type": "code",
   "execution_count": null,
   "id": "4fa39834",
   "metadata": {},
   "outputs": [],
   "source": []
  }
 ],
 "metadata": {
  "kernelspec": {
   "display_name": "Python 3 (ipykernel)",
   "language": "python",
   "name": "python3"
  },
  "language_info": {
   "codemirror_mode": {
    "name": "ipython",
    "version": 3
   },
   "file_extension": ".py",
   "mimetype": "text/x-python",
   "name": "python",
   "nbconvert_exporter": "python",
   "pygments_lexer": "ipython3",
   "version": "3.8.10"
  }
 },
 "nbformat": 4,
 "nbformat_minor": 5
}
