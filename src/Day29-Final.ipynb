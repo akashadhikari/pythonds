{
 "cells": [
  {
   "cell_type": "code",
   "execution_count": 1,
   "id": "511a21ca",
   "metadata": {},
   "outputs": [],
   "source": [
    "from bs4 import BeautifulSoup\n",
    "import pandas as pd\n",
    "import requests\n",
    "\n",
    "url = \"http://www.mfd.gov.np/\"\n",
    "response = requests.get(url)\n",
    "\n",
    "soup = BeautifulSoup(response.content, \"html.parser\")"
   ]
  },
  {
   "cell_type": "code",
   "execution_count": 2,
   "id": "34099557",
   "metadata": {},
   "outputs": [],
   "source": [
    "right_table=soup.find('table', class_='table')"
   ]
  },
  {
   "cell_type": "code",
   "execution_count": 3,
   "id": "695279e8",
   "metadata": {},
   "outputs": [
    {
     "data": {
      "text/plain": [
       "<table class=\"table\" style=\"margin-bottom: 0px\"><tr><th>Station</th><th class=\"center\">Maximum Temp.<br/>(°C)</th><th class=\"center\">Minimum Temp.<br/>(°C)</th><th class=\"center\">24 hrs Rainfall<br/>(mm)</th></tr><tr><td>Dipayal</td><td class=\"center\">34.3</td><td class=\"center\">24.0</td><td class=\"center\">Traces</td></tr><tr><td>Dadeldhura</td><td class=\"center\">24.1</td><td class=\"center\">17.1</td><td class=\"center\">0.3</td></tr><tr><td>Dhangadi</td><td class=\"center\">30.5</td><td class=\"center\">25.0</td><td class=\"center\">7.4</td></tr><tr><td>Birendranagar</td><td class=\"center\">29.8</td><td class=\"center\">22.7</td><td class=\"center\">9.7</td></tr><tr><td>Nepalgunj</td><td class=\"center\">29.8</td><td class=\"center\">26.2</td><td class=\"center\">16.8</td></tr><tr><td>Jumla</td><td class=\"center\">25.4</td><td class=\"center\">14.6</td><td class=\"center\">0.9</td></tr><tr><td>Ghorahi</td><td class=\"center\">29.0</td><td class=\"center\">23.8</td><td class=\"center\">8.4</td></tr><tr><td>Pokhara</td><td class=\"center\">30.6</td><td class=\"center\">22.0</td><td class=\"center\">105.2</td></tr><tr><td>Bhairahawa</td><td class=\"center\">31.2</td><td class=\"center\">25.4</td><td class=\"center\">8.1</td></tr><tr><td>Simara</td><td class=\"center\">32.4</td><td class=\"center\">26.6</td><td class=\"center\">22.1</td></tr><tr><td>Kathmandu</td><td class=\"center\">28.2</td><td class=\"center\">20.5</td><td class=\"center\">45.4</td></tr><tr><td>Okhaldhunga</td><td class=\"center\">26.8</td><td class=\"center\">18.4</td><td class=\"center\">22.9</td></tr><tr><td>Taplejung</td><td class=\"center\">25.2</td><td class=\"center\">18.8</td><td class=\"center\">40.8</td></tr><tr><td>Dhankuta</td><td class=\"center\">29.3</td><td class=\"center\">20.8</td><td class=\"center\">8.6</td></tr><tr><td>Biratnagar</td><td class=\"center\">33.2</td><td class=\"center\">26.0</td><td class=\"center\">15.5</td></tr><tr><td>Jomsom</td><td class=\"center\">19.0</td><td class=\"center\">13.0</td><td class=\"center\">0.0*</td></tr><tr><td>Dharan</td><td class=\"center\">33.0</td><td class=\"center\">25.5</td><td class=\"center\">11.9*</td></tr><tr><td>Lumle</td><td class=\"center\">24.0</td><td class=\"center\">18.0</td><td class=\"center\">75.5*</td></tr><tr><td>Janakpur</td><td class=\"center\">34.2</td><td class=\"center\">26.0</td><td class=\"center\">26.2*</td></tr><tr><td>Jiri</td><td class=\"center\">24.2</td><td class=\"center\">17.2</td><td class=\"center\">35.6*</td></tr><tr><td align=\"right\" colspan=\"4\"><small>* Daily rainfall data ending at 08:45 AM NPT</small></td></tr></table>"
      ]
     },
     "execution_count": 3,
     "metadata": {},
     "output_type": "execute_result"
    }
   ],
   "source": [
    "right_table"
   ]
  },
  {
   "cell_type": "code",
   "execution_count": 4,
   "id": "70790d64",
   "metadata": {},
   "outputs": [
    {
     "data": {
      "text/plain": [
       "<tr><th>Station</th><th class=\"center\">Maximum Temp.<br/>(°C)</th><th class=\"center\">Minimum Temp.<br/>(°C)</th><th class=\"center\">24 hrs Rainfall<br/>(mm)</th></tr>"
      ]
     },
     "execution_count": 4,
     "metadata": {},
     "output_type": "execute_result"
    }
   ],
   "source": [
    "right_table.findAll(\"tr\")[0]"
   ]
  },
  {
   "cell_type": "code",
   "execution_count": 5,
   "id": "2dbcacba",
   "metadata": {},
   "outputs": [
    {
     "data": {
      "text/plain": [
       "[<th>Station</th>,\n",
       " <th class=\"center\">Maximum Temp.<br/>(°C)</th>,\n",
       " <th class=\"center\">Minimum Temp.<br/>(°C)</th>,\n",
       " <th class=\"center\">24 hrs Rainfall<br/>(mm)</th>]"
      ]
     },
     "execution_count": 5,
     "metadata": {},
     "output_type": "execute_result"
    }
   ],
   "source": [
    "right_table.findAll(\"tr\")[0].findAll(\"th\")"
   ]
  },
  {
   "cell_type": "code",
   "execution_count": 6,
   "id": "ea39115f",
   "metadata": {},
   "outputs": [
    {
     "data": {
      "text/plain": [
       "['Station', 'Maximum Temp.(°C)', 'Minimum Temp.(°C)', '24 hrs Rainfall(mm)']"
      ]
     },
     "execution_count": 6,
     "metadata": {},
     "output_type": "execute_result"
    }
   ],
   "source": [
    "li = []\n",
    "for each in right_table.findAll(\"tr\")[0].findAll(\"th\"):\n",
    "    li.append(each.text)\n",
    "li"
   ]
  },
  {
   "cell_type": "code",
   "execution_count": 7,
   "id": "e2d8405b",
   "metadata": {},
   "outputs": [],
   "source": [
    "mydf = pd.DataFrame(columns= li)\n",
    "for each in right_table.findAll(\"tr\")[1:]:\n",
    "    row = [x.text for x in each.findAll(\"td\")]\n",
    "    if len(row) == 1:\n",
    "        break\n",
    "    length = len(mydf)\n",
    "    mydf.loc[length] = row"
   ]
  },
  {
   "cell_type": "code",
   "execution_count": 8,
   "id": "2744b42e",
   "metadata": {},
   "outputs": [
    {
     "data": {
      "text/html": [
       "<div>\n",
       "<style scoped>\n",
       "    .dataframe tbody tr th:only-of-type {\n",
       "        vertical-align: middle;\n",
       "    }\n",
       "\n",
       "    .dataframe tbody tr th {\n",
       "        vertical-align: top;\n",
       "    }\n",
       "\n",
       "    .dataframe thead th {\n",
       "        text-align: right;\n",
       "    }\n",
       "</style>\n",
       "<table border=\"1\" class=\"dataframe\">\n",
       "  <thead>\n",
       "    <tr style=\"text-align: right;\">\n",
       "      <th></th>\n",
       "      <th>Station</th>\n",
       "      <th>Maximum Temp.(°C)</th>\n",
       "      <th>Minimum Temp.(°C)</th>\n",
       "      <th>24 hrs Rainfall(mm)</th>\n",
       "    </tr>\n",
       "  </thead>\n",
       "  <tbody>\n",
       "    <tr>\n",
       "      <th>0</th>\n",
       "      <td>Dipayal</td>\n",
       "      <td>34.3</td>\n",
       "      <td>24.0</td>\n",
       "      <td>Traces</td>\n",
       "    </tr>\n",
       "    <tr>\n",
       "      <th>1</th>\n",
       "      <td>Dadeldhura</td>\n",
       "      <td>24.1</td>\n",
       "      <td>17.1</td>\n",
       "      <td>0.3</td>\n",
       "    </tr>\n",
       "    <tr>\n",
       "      <th>2</th>\n",
       "      <td>Dhangadi</td>\n",
       "      <td>30.5</td>\n",
       "      <td>25.0</td>\n",
       "      <td>7.4</td>\n",
       "    </tr>\n",
       "    <tr>\n",
       "      <th>3</th>\n",
       "      <td>Birendranagar</td>\n",
       "      <td>29.8</td>\n",
       "      <td>22.7</td>\n",
       "      <td>9.7</td>\n",
       "    </tr>\n",
       "    <tr>\n",
       "      <th>4</th>\n",
       "      <td>Nepalgunj</td>\n",
       "      <td>29.8</td>\n",
       "      <td>26.2</td>\n",
       "      <td>16.8</td>\n",
       "    </tr>\n",
       "    <tr>\n",
       "      <th>5</th>\n",
       "      <td>Jumla</td>\n",
       "      <td>25.4</td>\n",
       "      <td>14.6</td>\n",
       "      <td>0.9</td>\n",
       "    </tr>\n",
       "    <tr>\n",
       "      <th>6</th>\n",
       "      <td>Ghorahi</td>\n",
       "      <td>29.0</td>\n",
       "      <td>23.8</td>\n",
       "      <td>8.4</td>\n",
       "    </tr>\n",
       "    <tr>\n",
       "      <th>7</th>\n",
       "      <td>Pokhara</td>\n",
       "      <td>30.6</td>\n",
       "      <td>22.0</td>\n",
       "      <td>105.2</td>\n",
       "    </tr>\n",
       "    <tr>\n",
       "      <th>8</th>\n",
       "      <td>Bhairahawa</td>\n",
       "      <td>31.2</td>\n",
       "      <td>25.4</td>\n",
       "      <td>8.1</td>\n",
       "    </tr>\n",
       "    <tr>\n",
       "      <th>9</th>\n",
       "      <td>Simara</td>\n",
       "      <td>32.4</td>\n",
       "      <td>26.6</td>\n",
       "      <td>22.1</td>\n",
       "    </tr>\n",
       "    <tr>\n",
       "      <th>10</th>\n",
       "      <td>Kathmandu</td>\n",
       "      <td>28.2</td>\n",
       "      <td>20.5</td>\n",
       "      <td>45.4</td>\n",
       "    </tr>\n",
       "    <tr>\n",
       "      <th>11</th>\n",
       "      <td>Okhaldhunga</td>\n",
       "      <td>26.8</td>\n",
       "      <td>18.4</td>\n",
       "      <td>22.9</td>\n",
       "    </tr>\n",
       "    <tr>\n",
       "      <th>12</th>\n",
       "      <td>Taplejung</td>\n",
       "      <td>25.2</td>\n",
       "      <td>18.8</td>\n",
       "      <td>40.8</td>\n",
       "    </tr>\n",
       "    <tr>\n",
       "      <th>13</th>\n",
       "      <td>Dhankuta</td>\n",
       "      <td>29.3</td>\n",
       "      <td>20.8</td>\n",
       "      <td>8.6</td>\n",
       "    </tr>\n",
       "    <tr>\n",
       "      <th>14</th>\n",
       "      <td>Biratnagar</td>\n",
       "      <td>33.2</td>\n",
       "      <td>26.0</td>\n",
       "      <td>15.5</td>\n",
       "    </tr>\n",
       "    <tr>\n",
       "      <th>15</th>\n",
       "      <td>Jomsom</td>\n",
       "      <td>19.0</td>\n",
       "      <td>13.0</td>\n",
       "      <td>0.0*</td>\n",
       "    </tr>\n",
       "    <tr>\n",
       "      <th>16</th>\n",
       "      <td>Dharan</td>\n",
       "      <td>33.0</td>\n",
       "      <td>25.5</td>\n",
       "      <td>11.9*</td>\n",
       "    </tr>\n",
       "    <tr>\n",
       "      <th>17</th>\n",
       "      <td>Lumle</td>\n",
       "      <td>24.0</td>\n",
       "      <td>18.0</td>\n",
       "      <td>75.5*</td>\n",
       "    </tr>\n",
       "    <tr>\n",
       "      <th>18</th>\n",
       "      <td>Janakpur</td>\n",
       "      <td>34.2</td>\n",
       "      <td>26.0</td>\n",
       "      <td>26.2*</td>\n",
       "    </tr>\n",
       "    <tr>\n",
       "      <th>19</th>\n",
       "      <td>Jiri</td>\n",
       "      <td>24.2</td>\n",
       "      <td>17.2</td>\n",
       "      <td>35.6*</td>\n",
       "    </tr>\n",
       "  </tbody>\n",
       "</table>\n",
       "</div>"
      ],
      "text/plain": [
       "          Station Maximum Temp.(°C) Minimum Temp.(°C) 24 hrs Rainfall(mm)\n",
       "0         Dipayal              34.3              24.0              Traces\n",
       "1      Dadeldhura              24.1              17.1                 0.3\n",
       "2        Dhangadi              30.5              25.0                 7.4\n",
       "3   Birendranagar              29.8              22.7                 9.7\n",
       "4       Nepalgunj              29.8              26.2                16.8\n",
       "5           Jumla              25.4              14.6                 0.9\n",
       "6         Ghorahi              29.0              23.8                 8.4\n",
       "7         Pokhara              30.6              22.0               105.2\n",
       "8      Bhairahawa              31.2              25.4                 8.1\n",
       "9          Simara              32.4              26.6                22.1\n",
       "10      Kathmandu              28.2              20.5                45.4\n",
       "11    Okhaldhunga              26.8              18.4                22.9\n",
       "12      Taplejung              25.2              18.8                40.8\n",
       "13       Dhankuta              29.3              20.8                 8.6\n",
       "14     Biratnagar              33.2              26.0                15.5\n",
       "15         Jomsom              19.0              13.0                0.0*\n",
       "16         Dharan              33.0              25.5               11.9*\n",
       "17          Lumle              24.0              18.0               75.5*\n",
       "18       Janakpur              34.2              26.0               26.2*\n",
       "19           Jiri              24.2              17.2               35.6*"
      ]
     },
     "execution_count": 8,
     "metadata": {},
     "output_type": "execute_result"
    }
   ],
   "source": [
    "mydf"
   ]
  },
  {
   "cell_type": "code",
   "execution_count": null,
   "id": "8c9dbb17",
   "metadata": {},
   "outputs": [],
   "source": []
  }
 ],
 "metadata": {
  "kernelspec": {
   "display_name": "Python 3 (ipykernel)",
   "language": "python",
   "name": "python3"
  },
  "language_info": {
   "codemirror_mode": {
    "name": "ipython",
    "version": 3
   },
   "file_extension": ".py",
   "mimetype": "text/x-python",
   "name": "python",
   "nbconvert_exporter": "python",
   "pygments_lexer": "ipython3",
   "version": "3.8.10"
  }
 },
 "nbformat": 4,
 "nbformat_minor": 5
}
