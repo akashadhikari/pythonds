{
 "cells": [
  {
   "cell_type": "markdown",
   "id": "011af328",
   "metadata": {},
   "source": [
    "### Remember Cancer dataset?"
   ]
  },
  {
   "cell_type": "code",
   "execution_count": null,
   "id": "05c49dc3",
   "metadata": {},
   "outputs": [],
   "source": [
    "from sklearn import datasets\n",
    "\n",
    "cancer = datasets.load_breast_cancer()"
   ]
  },
  {
   "cell_type": "markdown",
   "id": "865f8764",
   "metadata": {},
   "source": [
    "### Lets explore our dataset once again\n",
    "\n",
    "- `data`\n",
    "- `target`\n",
    "- `target_names`\n",
    "- `feature_names`"
   ]
  },
  {
   "cell_type": "code",
   "execution_count": null,
   "id": "74142bac",
   "metadata": {},
   "outputs": [],
   "source": [
    "cancer"
   ]
  },
  {
   "cell_type": "code",
   "execution_count": null,
   "id": "6fc2ba90",
   "metadata": {},
   "outputs": [],
   "source": [
    "print(\"Data: \", cancer.data)\n",
    "print(\"\\n\")\n",
    "print(\"Target: \", cancer.target)"
   ]
  },
  {
   "cell_type": "code",
   "execution_count": null,
   "id": "e217d7a5",
   "metadata": {},
   "outputs": [],
   "source": []
  },
  {
   "cell_type": "code",
   "execution_count": null,
   "id": "812603cc",
   "metadata": {},
   "outputs": [],
   "source": [
    "print(\"Features: \", cancer.feature_names)\n",
    "print(\"\\n\")\n",
    "print(\"Labels: \", cancer.target_names)"
   ]
  },
  {
   "cell_type": "code",
   "execution_count": null,
   "id": "449716e9",
   "metadata": {},
   "outputs": [],
   "source": [
    "cancer.data.shape"
   ]
  },
  {
   "cell_type": "code",
   "execution_count": null,
   "id": "2a1c2958",
   "metadata": {},
   "outputs": [],
   "source": [
    "cancer.data[0:5]"
   ]
  },
  {
   "cell_type": "code",
   "execution_count": null,
   "id": "24cedcb8",
   "metadata": {},
   "outputs": [],
   "source": [
    "from sklearn.model_selection import train_test_split\n",
    "\n",
    "x_train, x_test, y_train, y_test = train_test_split(cancer.data, cancer.target, test_size=0.3,random_state=1)"
   ]
  },
  {
   "cell_type": "code",
   "execution_count": null,
   "id": "40f48899",
   "metadata": {},
   "outputs": [],
   "source": [
    "from sklearn import svm\n",
    "\n",
    "#Create a svm Classifier\n",
    "clf = svm.SVC(kernel='linear') # Linear Kernel\n",
    "\n",
    "#Train the model using the training sets\n",
    "clf.fit(x_train, y_train)\n",
    "\n",
    "#Predict the response for test dataset\n",
    "y_pred = clf.predict(x_test)"
   ]
  },
  {
   "cell_type": "code",
   "execution_count": null,
   "id": "6c99fa6a",
   "metadata": {},
   "outputs": [],
   "source": [
    "from sklearn import metrics\n",
    "\n",
    "metrics.accuracy_score(y_test, y_pred)"
   ]
  },
  {
   "cell_type": "code",
   "execution_count": null,
   "id": "0efd4b22",
   "metadata": {},
   "outputs": [],
   "source": [
    "y_test"
   ]
  },
  {
   "cell_type": "code",
   "execution_count": null,
   "id": "c3eed857",
   "metadata": {},
   "outputs": [],
   "source": [
    "y_pred"
   ]
  },
  {
   "cell_type": "code",
   "execution_count": null,
   "id": "3d8beaf5",
   "metadata": {},
   "outputs": [],
   "source": [
    "a = [1.469e+01, 1.398e+01, 9.822e+01, 6.561e+02, 1.031e-01, 1.836e-01,\n",
    "       1.450e-01, 6.300e-02, 2.086e-01, 7.406e-02, 5.462e-01, 1.511e+00,\n",
    "       4.795e+00, 4.945e+01, 9.976e-03, 5.244e-02, 5.278e-02, 1.580e-02,\n",
    "       2.653e-02, 5.444e-03, 1.646e+01, 1.834e+01, 1.141e+02, 8.092e+02,\n",
    "       1.312e-01, 3.635e-01, 3.219e-01, 1.108e-01, 2.827e-01, 9.208e-02]\n",
    "\n",
    "b = [1.317e+01, 1.866e+01, 8.598e+01, 5.346e+02, 1.158e-01, 1.231e-01,\n",
    "       1.226e-01, 7.340e-02, 2.128e-01, 6.777e-02, 2.871e-01, 8.937e-01,\n",
    "       1.897e+00, 2.425e+01, 6.532e-03, 2.336e-02, 2.905e-02, 1.215e-02,\n",
    "       1.743e-02, 3.643e-03, 1.567e+01, 2.795e+01, 1.028e+02, 7.594e+02,\n",
    "       1.786e-01, 4.166e-01, 5.006e-01, 2.088e-01, 3.900e-01, 1.179e-01]\n",
    "\n",
    "clf.predict([a,b])"
   ]
  },
  {
   "cell_type": "code",
   "execution_count": null,
   "id": "25109952",
   "metadata": {},
   "outputs": [],
   "source": []
  }
 ],
 "metadata": {
  "kernelspec": {
   "display_name": "Python 3 (ipykernel)",
   "language": "python",
   "name": "python3"
  },
  "language_info": {
   "codemirror_mode": {
    "name": "ipython",
    "version": 3
   },
   "file_extension": ".py",
   "mimetype": "text/x-python",
   "name": "python",
   "nbconvert_exporter": "python",
   "pygments_lexer": "ipython3",
   "version": "3.8.10"
  }
 },
 "nbformat": 4,
 "nbformat_minor": 5
}
