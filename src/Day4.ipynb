{
 "cells": [
  {
   "cell_type": "code",
   "execution_count": 1,
   "id": "27b491f4",
   "metadata": {},
   "outputs": [],
   "source": [
    "import pandas as pd"
   ]
  },
  {
   "cell_type": "code",
   "execution_count": 2,
   "id": "77554ff4",
   "metadata": {},
   "outputs": [],
   "source": [
    "people = {\n",
    "    'first': ['Ram', 'Hari', 'Gopal'],\n",
    "    'last': ['Sharma', 'Yadav', 'Verma'],\n",
    "    'email': ['ram@gmail.com', 'hari@yahoo.com', 'gopal@hotmail.com']\n",
    "}"
   ]
  },
  {
   "cell_type": "code",
   "execution_count": 3,
   "id": "41d14f2e",
   "metadata": {},
   "outputs": [
    {
     "data": {
      "text/plain": [
       "['ram@gmail.com', 'hari@yahoo.com', 'gopal@hotmail.com']"
      ]
     },
     "execution_count": 3,
     "metadata": {},
     "output_type": "execute_result"
    }
   ],
   "source": [
    "people['email']"
   ]
  },
  {
   "cell_type": "code",
   "execution_count": 4,
   "id": "e6a73260",
   "metadata": {},
   "outputs": [],
   "source": [
    "people_df = pd.DataFrame(people)"
   ]
  },
  {
   "cell_type": "code",
   "execution_count": 5,
   "id": "af9a6180",
   "metadata": {},
   "outputs": [
    {
     "data": {
      "text/html": [
       "<div>\n",
       "<style scoped>\n",
       "    .dataframe tbody tr th:only-of-type {\n",
       "        vertical-align: middle;\n",
       "    }\n",
       "\n",
       "    .dataframe tbody tr th {\n",
       "        vertical-align: top;\n",
       "    }\n",
       "\n",
       "    .dataframe thead th {\n",
       "        text-align: right;\n",
       "    }\n",
       "</style>\n",
       "<table border=\"1\" class=\"dataframe\">\n",
       "  <thead>\n",
       "    <tr style=\"text-align: right;\">\n",
       "      <th></th>\n",
       "      <th>first</th>\n",
       "      <th>last</th>\n",
       "      <th>email</th>\n",
       "    </tr>\n",
       "  </thead>\n",
       "  <tbody>\n",
       "    <tr>\n",
       "      <th>0</th>\n",
       "      <td>Ram</td>\n",
       "      <td>Sharma</td>\n",
       "      <td>ram@gmail.com</td>\n",
       "    </tr>\n",
       "    <tr>\n",
       "      <th>1</th>\n",
       "      <td>Hari</td>\n",
       "      <td>Yadav</td>\n",
       "      <td>hari@yahoo.com</td>\n",
       "    </tr>\n",
       "    <tr>\n",
       "      <th>2</th>\n",
       "      <td>Gopal</td>\n",
       "      <td>Verma</td>\n",
       "      <td>gopal@hotmail.com</td>\n",
       "    </tr>\n",
       "  </tbody>\n",
       "</table>\n",
       "</div>"
      ],
      "text/plain": [
       "   first    last              email\n",
       "0    Ram  Sharma      ram@gmail.com\n",
       "1   Hari   Yadav     hari@yahoo.com\n",
       "2  Gopal   Verma  gopal@hotmail.com"
      ]
     },
     "execution_count": 5,
     "metadata": {},
     "output_type": "execute_result"
    }
   ],
   "source": [
    "people_df"
   ]
  },
  {
   "cell_type": "code",
   "execution_count": 17,
   "id": "ec47a2ac",
   "metadata": {},
   "outputs": [
    {
     "data": {
      "text/plain": [
       "pandas.core.frame.DataFrame"
      ]
     },
     "execution_count": 17,
     "metadata": {},
     "output_type": "execute_result"
    }
   ],
   "source": [
    "type(people_df)"
   ]
  },
  {
   "cell_type": "code",
   "execution_count": 8,
   "id": "c0cb084a",
   "metadata": {},
   "outputs": [
    {
     "data": {
      "text/plain": [
       "0        ram@gmail.com\n",
       "1       hari@yahoo.com\n",
       "2    gopal@hotmail.com\n",
       "Name: email, dtype: object"
      ]
     },
     "execution_count": 8,
     "metadata": {},
     "output_type": "execute_result"
    }
   ],
   "source": [
    "people_df['email']"
   ]
  },
  {
   "cell_type": "code",
   "execution_count": 16,
   "id": "4cec637b",
   "metadata": {},
   "outputs": [
    {
     "data": {
      "text/plain": [
       "pandas.core.series.Series"
      ]
     },
     "execution_count": 16,
     "metadata": {},
     "output_type": "execute_result"
    }
   ],
   "source": [
    "type(people_df['email'])"
   ]
  },
  {
   "cell_type": "code",
   "execution_count": 9,
   "id": "8f0a141f",
   "metadata": {},
   "outputs": [
    {
     "data": {
      "text/html": [
       "<div>\n",
       "<style scoped>\n",
       "    .dataframe tbody tr th:only-of-type {\n",
       "        vertical-align: middle;\n",
       "    }\n",
       "\n",
       "    .dataframe tbody tr th {\n",
       "        vertical-align: top;\n",
       "    }\n",
       "\n",
       "    .dataframe thead th {\n",
       "        text-align: right;\n",
       "    }\n",
       "</style>\n",
       "<table border=\"1\" class=\"dataframe\">\n",
       "  <thead>\n",
       "    <tr style=\"text-align: right;\">\n",
       "      <th></th>\n",
       "      <th>first</th>\n",
       "      <th>email</th>\n",
       "    </tr>\n",
       "  </thead>\n",
       "  <tbody>\n",
       "    <tr>\n",
       "      <th>0</th>\n",
       "      <td>Ram</td>\n",
       "      <td>ram@gmail.com</td>\n",
       "    </tr>\n",
       "    <tr>\n",
       "      <th>1</th>\n",
       "      <td>Hari</td>\n",
       "      <td>hari@yahoo.com</td>\n",
       "    </tr>\n",
       "    <tr>\n",
       "      <th>2</th>\n",
       "      <td>Gopal</td>\n",
       "      <td>gopal@hotmail.com</td>\n",
       "    </tr>\n",
       "  </tbody>\n",
       "</table>\n",
       "</div>"
      ],
      "text/plain": [
       "   first              email\n",
       "0    Ram      ram@gmail.com\n",
       "1   Hari     hari@yahoo.com\n",
       "2  Gopal  gopal@hotmail.com"
      ]
     },
     "execution_count": 9,
     "metadata": {},
     "output_type": "execute_result"
    }
   ],
   "source": [
    "people_df[['first', 'email']]"
   ]
  },
  {
   "cell_type": "code",
   "execution_count": 22,
   "id": "31c22047",
   "metadata": {},
   "outputs": [
    {
     "data": {
      "text/plain": [
       "Index(['first', 'last', 'email'], dtype='object')"
      ]
     },
     "execution_count": 22,
     "metadata": {},
     "output_type": "execute_result"
    }
   ],
   "source": [
    "people_df.columns"
   ]
  },
  {
   "cell_type": "code",
   "execution_count": 24,
   "id": "0a6e063d",
   "metadata": {},
   "outputs": [
    {
     "data": {
      "text/plain": [
       "first              Ram\n",
       "last            Sharma\n",
       "email    ram@gmail.com\n",
       "Name: 0, dtype: object"
      ]
     },
     "execution_count": 24,
     "metadata": {},
     "output_type": "execute_result"
    }
   ],
   "source": [
    "people_df.iloc[0]"
   ]
  },
  {
   "cell_type": "code",
   "execution_count": 26,
   "id": "f4f95344",
   "metadata": {},
   "outputs": [
    {
     "data": {
      "text/html": [
       "<div>\n",
       "<style scoped>\n",
       "    .dataframe tbody tr th:only-of-type {\n",
       "        vertical-align: middle;\n",
       "    }\n",
       "\n",
       "    .dataframe tbody tr th {\n",
       "        vertical-align: top;\n",
       "    }\n",
       "\n",
       "    .dataframe thead th {\n",
       "        text-align: right;\n",
       "    }\n",
       "</style>\n",
       "<table border=\"1\" class=\"dataframe\">\n",
       "  <thead>\n",
       "    <tr style=\"text-align: right;\">\n",
       "      <th></th>\n",
       "      <th>first</th>\n",
       "      <th>last</th>\n",
       "      <th>email</th>\n",
       "    </tr>\n",
       "  </thead>\n",
       "  <tbody>\n",
       "    <tr>\n",
       "      <th>0</th>\n",
       "      <td>Ram</td>\n",
       "      <td>Sharma</td>\n",
       "      <td>ram@gmail.com</td>\n",
       "    </tr>\n",
       "    <tr>\n",
       "      <th>1</th>\n",
       "      <td>Hari</td>\n",
       "      <td>Yadav</td>\n",
       "      <td>hari@yahoo.com</td>\n",
       "    </tr>\n",
       "  </tbody>\n",
       "</table>\n",
       "</div>"
      ],
      "text/plain": [
       "  first    last           email\n",
       "0   Ram  Sharma   ram@gmail.com\n",
       "1  Hari   Yadav  hari@yahoo.com"
      ]
     },
     "execution_count": 26,
     "metadata": {},
     "output_type": "execute_result"
    }
   ],
   "source": [
    "people_df.iloc[[0,1]]"
   ]
  },
  {
   "cell_type": "code",
   "execution_count": 10,
   "id": "e405d491",
   "metadata": {},
   "outputs": [
    {
     "data": {
      "text/plain": [
       "0     ram@gmail.com\n",
       "1    hari@yahoo.com\n",
       "Name: email, dtype: object"
      ]
     },
     "execution_count": 10,
     "metadata": {},
     "output_type": "execute_result"
    }
   ],
   "source": [
    "people_df.iloc[[0,1],2]"
   ]
  },
  {
   "cell_type": "code",
   "execution_count": 30,
   "id": "d8bd3fcf",
   "metadata": {},
   "outputs": [
    {
     "data": {
      "text/plain": [
       "0     ram@gmail.com\n",
       "1    hari@yahoo.com\n",
       "Name: email, dtype: object"
      ]
     },
     "execution_count": 30,
     "metadata": {},
     "output_type": "execute_result"
    }
   ],
   "source": [
    "people_df.loc[[0,1],'email']"
   ]
  },
  {
   "cell_type": "code",
   "execution_count": 31,
   "id": "9a0ea9c8",
   "metadata": {},
   "outputs": [
    {
     "data": {
      "text/html": [
       "<div>\n",
       "<style scoped>\n",
       "    .dataframe tbody tr th:only-of-type {\n",
       "        vertical-align: middle;\n",
       "    }\n",
       "\n",
       "    .dataframe tbody tr th {\n",
       "        vertical-align: top;\n",
       "    }\n",
       "\n",
       "    .dataframe thead th {\n",
       "        text-align: right;\n",
       "    }\n",
       "</style>\n",
       "<table border=\"1\" class=\"dataframe\">\n",
       "  <thead>\n",
       "    <tr style=\"text-align: right;\">\n",
       "      <th></th>\n",
       "      <th>email</th>\n",
       "      <th>last</th>\n",
       "    </tr>\n",
       "  </thead>\n",
       "  <tbody>\n",
       "    <tr>\n",
       "      <th>0</th>\n",
       "      <td>ram@gmail.com</td>\n",
       "      <td>Sharma</td>\n",
       "    </tr>\n",
       "    <tr>\n",
       "      <th>1</th>\n",
       "      <td>hari@yahoo.com</td>\n",
       "      <td>Yadav</td>\n",
       "    </tr>\n",
       "  </tbody>\n",
       "</table>\n",
       "</div>"
      ],
      "text/plain": [
       "            email    last\n",
       "0   ram@gmail.com  Sharma\n",
       "1  hari@yahoo.com   Yadav"
      ]
     },
     "execution_count": 31,
     "metadata": {},
     "output_type": "execute_result"
    }
   ],
   "source": [
    "people_df.loc[[0,1],['email', 'last']]"
   ]
  },
  {
   "cell_type": "code",
   "execution_count": null,
   "id": "c61aa39b",
   "metadata": {},
   "outputs": [],
   "source": []
  },
  {
   "cell_type": "code",
   "execution_count": null,
   "id": "5a3d7122",
   "metadata": {},
   "outputs": [],
   "source": []
  },
  {
   "cell_type": "code",
   "execution_count": null,
   "id": "8712a80b",
   "metadata": {},
   "outputs": [],
   "source": []
  },
  {
   "cell_type": "code",
   "execution_count": null,
   "id": "c4edd8c6",
   "metadata": {},
   "outputs": [],
   "source": []
  },
  {
   "cell_type": "code",
   "execution_count": null,
   "id": "7095d6f4",
   "metadata": {},
   "outputs": [],
   "source": []
  },
  {
   "cell_type": "code",
   "execution_count": null,
   "id": "09ae95b6",
   "metadata": {},
   "outputs": [],
   "source": []
  },
  {
   "cell_type": "code",
   "execution_count": null,
   "id": "9a1f32af",
   "metadata": {},
   "outputs": [],
   "source": []
  },
  {
   "cell_type": "code",
   "execution_count": 2,
   "id": "09f4c5bb",
   "metadata": {},
   "outputs": [],
   "source": [
    "df = pd.read_csv('data/survey_results_public.csv')"
   ]
  },
  {
   "cell_type": "code",
   "execution_count": 3,
   "id": "5295edcd",
   "metadata": {},
   "outputs": [
    {
     "data": {
      "text/html": [
       "<div>\n",
       "<style scoped>\n",
       "    .dataframe tbody tr th:only-of-type {\n",
       "        vertical-align: middle;\n",
       "    }\n",
       "\n",
       "    .dataframe tbody tr th {\n",
       "        vertical-align: top;\n",
       "    }\n",
       "\n",
       "    .dataframe thead th {\n",
       "        text-align: right;\n",
       "    }\n",
       "</style>\n",
       "<table border=\"1\" class=\"dataframe\">\n",
       "  <thead>\n",
       "    <tr style=\"text-align: right;\">\n",
       "      <th></th>\n",
       "      <th>Respondent</th>\n",
       "      <th>MainBranch</th>\n",
       "      <th>Hobbyist</th>\n",
       "      <th>OpenSourcer</th>\n",
       "      <th>OpenSource</th>\n",
       "      <th>Employment</th>\n",
       "      <th>Country</th>\n",
       "      <th>Student</th>\n",
       "      <th>EdLevel</th>\n",
       "      <th>UndergradMajor</th>\n",
       "      <th>...</th>\n",
       "      <th>WelcomeChange</th>\n",
       "      <th>SONewContent</th>\n",
       "      <th>Age</th>\n",
       "      <th>Gender</th>\n",
       "      <th>Trans</th>\n",
       "      <th>Sexuality</th>\n",
       "      <th>Ethnicity</th>\n",
       "      <th>Dependents</th>\n",
       "      <th>SurveyLength</th>\n",
       "      <th>SurveyEase</th>\n",
       "    </tr>\n",
       "  </thead>\n",
       "  <tbody>\n",
       "    <tr>\n",
       "      <th>0</th>\n",
       "      <td>1</td>\n",
       "      <td>I am a student who is learning to code</td>\n",
       "      <td>Yes</td>\n",
       "      <td>Never</td>\n",
       "      <td>The quality of OSS and closed source software ...</td>\n",
       "      <td>Not employed, and not looking for work</td>\n",
       "      <td>United Kingdom</td>\n",
       "      <td>No</td>\n",
       "      <td>Primary/elementary school</td>\n",
       "      <td>NaN</td>\n",
       "      <td>...</td>\n",
       "      <td>Just as welcome now as I felt last year</td>\n",
       "      <td>Tech articles written by other developers;Indu...</td>\n",
       "      <td>14.0</td>\n",
       "      <td>Man</td>\n",
       "      <td>No</td>\n",
       "      <td>Straight / Heterosexual</td>\n",
       "      <td>NaN</td>\n",
       "      <td>No</td>\n",
       "      <td>Appropriate in length</td>\n",
       "      <td>Neither easy nor difficult</td>\n",
       "    </tr>\n",
       "    <tr>\n",
       "      <th>1</th>\n",
       "      <td>2</td>\n",
       "      <td>I am a student who is learning to code</td>\n",
       "      <td>No</td>\n",
       "      <td>Less than once per year</td>\n",
       "      <td>The quality of OSS and closed source software ...</td>\n",
       "      <td>Not employed, but looking for work</td>\n",
       "      <td>Bosnia and Herzegovina</td>\n",
       "      <td>Yes, full-time</td>\n",
       "      <td>Secondary school (e.g. American high school, G...</td>\n",
       "      <td>NaN</td>\n",
       "      <td>...</td>\n",
       "      <td>Just as welcome now as I felt last year</td>\n",
       "      <td>Tech articles written by other developers;Indu...</td>\n",
       "      <td>19.0</td>\n",
       "      <td>Man</td>\n",
       "      <td>No</td>\n",
       "      <td>Straight / Heterosexual</td>\n",
       "      <td>NaN</td>\n",
       "      <td>No</td>\n",
       "      <td>Appropriate in length</td>\n",
       "      <td>Neither easy nor difficult</td>\n",
       "    </tr>\n",
       "    <tr>\n",
       "      <th>2</th>\n",
       "      <td>3</td>\n",
       "      <td>I am not primarily a developer, but I write co...</td>\n",
       "      <td>Yes</td>\n",
       "      <td>Never</td>\n",
       "      <td>The quality of OSS and closed source software ...</td>\n",
       "      <td>Employed full-time</td>\n",
       "      <td>Thailand</td>\n",
       "      <td>No</td>\n",
       "      <td>Bachelor’s degree (BA, BS, B.Eng., etc.)</td>\n",
       "      <td>Web development or web design</td>\n",
       "      <td>...</td>\n",
       "      <td>Just as welcome now as I felt last year</td>\n",
       "      <td>Tech meetups or events in your area;Courses on...</td>\n",
       "      <td>28.0</td>\n",
       "      <td>Man</td>\n",
       "      <td>No</td>\n",
       "      <td>Straight / Heterosexual</td>\n",
       "      <td>NaN</td>\n",
       "      <td>Yes</td>\n",
       "      <td>Appropriate in length</td>\n",
       "      <td>Neither easy nor difficult</td>\n",
       "    </tr>\n",
       "    <tr>\n",
       "      <th>3</th>\n",
       "      <td>4</td>\n",
       "      <td>I am a developer by profession</td>\n",
       "      <td>No</td>\n",
       "      <td>Never</td>\n",
       "      <td>The quality of OSS and closed source software ...</td>\n",
       "      <td>Employed full-time</td>\n",
       "      <td>United States</td>\n",
       "      <td>No</td>\n",
       "      <td>Bachelor’s degree (BA, BS, B.Eng., etc.)</td>\n",
       "      <td>Computer science, computer engineering, or sof...</td>\n",
       "      <td>...</td>\n",
       "      <td>Just as welcome now as I felt last year</td>\n",
       "      <td>Tech articles written by other developers;Indu...</td>\n",
       "      <td>22.0</td>\n",
       "      <td>Man</td>\n",
       "      <td>No</td>\n",
       "      <td>Straight / Heterosexual</td>\n",
       "      <td>White or of European descent</td>\n",
       "      <td>No</td>\n",
       "      <td>Appropriate in length</td>\n",
       "      <td>Easy</td>\n",
       "    </tr>\n",
       "    <tr>\n",
       "      <th>4</th>\n",
       "      <td>5</td>\n",
       "      <td>I am a developer by profession</td>\n",
       "      <td>Yes</td>\n",
       "      <td>Once a month or more often</td>\n",
       "      <td>OSS is, on average, of HIGHER quality than pro...</td>\n",
       "      <td>Employed full-time</td>\n",
       "      <td>Ukraine</td>\n",
       "      <td>No</td>\n",
       "      <td>Bachelor’s degree (BA, BS, B.Eng., etc.)</td>\n",
       "      <td>Computer science, computer engineering, or sof...</td>\n",
       "      <td>...</td>\n",
       "      <td>Just as welcome now as I felt last year</td>\n",
       "      <td>Tech meetups or events in your area;Courses on...</td>\n",
       "      <td>30.0</td>\n",
       "      <td>Man</td>\n",
       "      <td>No</td>\n",
       "      <td>Straight / Heterosexual</td>\n",
       "      <td>White or of European descent;Multiracial</td>\n",
       "      <td>No</td>\n",
       "      <td>Appropriate in length</td>\n",
       "      <td>Easy</td>\n",
       "    </tr>\n",
       "    <tr>\n",
       "      <th>...</th>\n",
       "      <td>...</td>\n",
       "      <td>...</td>\n",
       "      <td>...</td>\n",
       "      <td>...</td>\n",
       "      <td>...</td>\n",
       "      <td>...</td>\n",
       "      <td>...</td>\n",
       "      <td>...</td>\n",
       "      <td>...</td>\n",
       "      <td>...</td>\n",
       "      <td>...</td>\n",
       "      <td>...</td>\n",
       "      <td>...</td>\n",
       "      <td>...</td>\n",
       "      <td>...</td>\n",
       "      <td>...</td>\n",
       "      <td>...</td>\n",
       "      <td>...</td>\n",
       "      <td>...</td>\n",
       "      <td>...</td>\n",
       "      <td>...</td>\n",
       "    </tr>\n",
       "    <tr>\n",
       "      <th>88878</th>\n",
       "      <td>88377</td>\n",
       "      <td>NaN</td>\n",
       "      <td>Yes</td>\n",
       "      <td>Less than once a month but more than once per ...</td>\n",
       "      <td>The quality of OSS and closed source software ...</td>\n",
       "      <td>Not employed, and not looking for work</td>\n",
       "      <td>Canada</td>\n",
       "      <td>No</td>\n",
       "      <td>Primary/elementary school</td>\n",
       "      <td>NaN</td>\n",
       "      <td>...</td>\n",
       "      <td>NaN</td>\n",
       "      <td>Tech articles written by other developers;Tech...</td>\n",
       "      <td>NaN</td>\n",
       "      <td>Man</td>\n",
       "      <td>No</td>\n",
       "      <td>NaN</td>\n",
       "      <td>NaN</td>\n",
       "      <td>No</td>\n",
       "      <td>Appropriate in length</td>\n",
       "      <td>Easy</td>\n",
       "    </tr>\n",
       "    <tr>\n",
       "      <th>88879</th>\n",
       "      <td>88601</td>\n",
       "      <td>NaN</td>\n",
       "      <td>No</td>\n",
       "      <td>Never</td>\n",
       "      <td>The quality of OSS and closed source software ...</td>\n",
       "      <td>NaN</td>\n",
       "      <td>NaN</td>\n",
       "      <td>NaN</td>\n",
       "      <td>NaN</td>\n",
       "      <td>NaN</td>\n",
       "      <td>...</td>\n",
       "      <td>NaN</td>\n",
       "      <td>NaN</td>\n",
       "      <td>NaN</td>\n",
       "      <td>NaN</td>\n",
       "      <td>NaN</td>\n",
       "      <td>NaN</td>\n",
       "      <td>NaN</td>\n",
       "      <td>NaN</td>\n",
       "      <td>NaN</td>\n",
       "      <td>NaN</td>\n",
       "    </tr>\n",
       "    <tr>\n",
       "      <th>88880</th>\n",
       "      <td>88802</td>\n",
       "      <td>NaN</td>\n",
       "      <td>No</td>\n",
       "      <td>Never</td>\n",
       "      <td>NaN</td>\n",
       "      <td>Employed full-time</td>\n",
       "      <td>NaN</td>\n",
       "      <td>NaN</td>\n",
       "      <td>NaN</td>\n",
       "      <td>NaN</td>\n",
       "      <td>...</td>\n",
       "      <td>NaN</td>\n",
       "      <td>NaN</td>\n",
       "      <td>NaN</td>\n",
       "      <td>NaN</td>\n",
       "      <td>NaN</td>\n",
       "      <td>NaN</td>\n",
       "      <td>NaN</td>\n",
       "      <td>NaN</td>\n",
       "      <td>NaN</td>\n",
       "      <td>NaN</td>\n",
       "    </tr>\n",
       "    <tr>\n",
       "      <th>88881</th>\n",
       "      <td>88816</td>\n",
       "      <td>NaN</td>\n",
       "      <td>No</td>\n",
       "      <td>Never</td>\n",
       "      <td>OSS is, on average, of HIGHER quality than pro...</td>\n",
       "      <td>Independent contractor, freelancer, or self-em...</td>\n",
       "      <td>NaN</td>\n",
       "      <td>NaN</td>\n",
       "      <td>NaN</td>\n",
       "      <td>NaN</td>\n",
       "      <td>...</td>\n",
       "      <td>NaN</td>\n",
       "      <td>NaN</td>\n",
       "      <td>NaN</td>\n",
       "      <td>NaN</td>\n",
       "      <td>NaN</td>\n",
       "      <td>NaN</td>\n",
       "      <td>NaN</td>\n",
       "      <td>NaN</td>\n",
       "      <td>NaN</td>\n",
       "      <td>NaN</td>\n",
       "    </tr>\n",
       "    <tr>\n",
       "      <th>88882</th>\n",
       "      <td>88863</td>\n",
       "      <td>NaN</td>\n",
       "      <td>Yes</td>\n",
       "      <td>Less than once per year</td>\n",
       "      <td>OSS is, on average, of HIGHER quality than pro...</td>\n",
       "      <td>Not employed, and not looking for work</td>\n",
       "      <td>Spain</td>\n",
       "      <td>Yes, full-time</td>\n",
       "      <td>Professional degree (JD, MD, etc.)</td>\n",
       "      <td>Computer science, computer engineering, or sof...</td>\n",
       "      <td>...</td>\n",
       "      <td>Somewhat less welcome now than last year</td>\n",
       "      <td>Tech articles written by other developers;Indu...</td>\n",
       "      <td>18.0</td>\n",
       "      <td>Man</td>\n",
       "      <td>No</td>\n",
       "      <td>Straight / Heterosexual</td>\n",
       "      <td>Hispanic or Latino/Latina;White or of European...</td>\n",
       "      <td>No</td>\n",
       "      <td>Appropriate in length</td>\n",
       "      <td>Easy</td>\n",
       "    </tr>\n",
       "  </tbody>\n",
       "</table>\n",
       "<p>88883 rows × 85 columns</p>\n",
       "</div>"
      ],
      "text/plain": [
       "       Respondent                                         MainBranch Hobbyist  \\\n",
       "0               1             I am a student who is learning to code      Yes   \n",
       "1               2             I am a student who is learning to code       No   \n",
       "2               3  I am not primarily a developer, but I write co...      Yes   \n",
       "3               4                     I am a developer by profession       No   \n",
       "4               5                     I am a developer by profession      Yes   \n",
       "...           ...                                                ...      ...   \n",
       "88878       88377                                                NaN      Yes   \n",
       "88879       88601                                                NaN       No   \n",
       "88880       88802                                                NaN       No   \n",
       "88881       88816                                                NaN       No   \n",
       "88882       88863                                                NaN      Yes   \n",
       "\n",
       "                                             OpenSourcer  \\\n",
       "0                                                  Never   \n",
       "1                                Less than once per year   \n",
       "2                                                  Never   \n",
       "3                                                  Never   \n",
       "4                             Once a month or more often   \n",
       "...                                                  ...   \n",
       "88878  Less than once a month but more than once per ...   \n",
       "88879                                              Never   \n",
       "88880                                              Never   \n",
       "88881                                              Never   \n",
       "88882                            Less than once per year   \n",
       "\n",
       "                                              OpenSource  \\\n",
       "0      The quality of OSS and closed source software ...   \n",
       "1      The quality of OSS and closed source software ...   \n",
       "2      The quality of OSS and closed source software ...   \n",
       "3      The quality of OSS and closed source software ...   \n",
       "4      OSS is, on average, of HIGHER quality than pro...   \n",
       "...                                                  ...   \n",
       "88878  The quality of OSS and closed source software ...   \n",
       "88879  The quality of OSS and closed source software ...   \n",
       "88880                                                NaN   \n",
       "88881  OSS is, on average, of HIGHER quality than pro...   \n",
       "88882  OSS is, on average, of HIGHER quality than pro...   \n",
       "\n",
       "                                              Employment  \\\n",
       "0                 Not employed, and not looking for work   \n",
       "1                     Not employed, but looking for work   \n",
       "2                                     Employed full-time   \n",
       "3                                     Employed full-time   \n",
       "4                                     Employed full-time   \n",
       "...                                                  ...   \n",
       "88878             Not employed, and not looking for work   \n",
       "88879                                                NaN   \n",
       "88880                                 Employed full-time   \n",
       "88881  Independent contractor, freelancer, or self-em...   \n",
       "88882             Not employed, and not looking for work   \n",
       "\n",
       "                      Country         Student  \\\n",
       "0              United Kingdom              No   \n",
       "1      Bosnia and Herzegovina  Yes, full-time   \n",
       "2                    Thailand              No   \n",
       "3               United States              No   \n",
       "4                     Ukraine              No   \n",
       "...                       ...             ...   \n",
       "88878                  Canada              No   \n",
       "88879                     NaN             NaN   \n",
       "88880                     NaN             NaN   \n",
       "88881                     NaN             NaN   \n",
       "88882                   Spain  Yes, full-time   \n",
       "\n",
       "                                                 EdLevel  \\\n",
       "0                              Primary/elementary school   \n",
       "1      Secondary school (e.g. American high school, G...   \n",
       "2               Bachelor’s degree (BA, BS, B.Eng., etc.)   \n",
       "3               Bachelor’s degree (BA, BS, B.Eng., etc.)   \n",
       "4               Bachelor’s degree (BA, BS, B.Eng., etc.)   \n",
       "...                                                  ...   \n",
       "88878                          Primary/elementary school   \n",
       "88879                                                NaN   \n",
       "88880                                                NaN   \n",
       "88881                                                NaN   \n",
       "88882                 Professional degree (JD, MD, etc.)   \n",
       "\n",
       "                                          UndergradMajor  ...  \\\n",
       "0                                                    NaN  ...   \n",
       "1                                                    NaN  ...   \n",
       "2                          Web development or web design  ...   \n",
       "3      Computer science, computer engineering, or sof...  ...   \n",
       "4      Computer science, computer engineering, or sof...  ...   \n",
       "...                                                  ...  ...   \n",
       "88878                                                NaN  ...   \n",
       "88879                                                NaN  ...   \n",
       "88880                                                NaN  ...   \n",
       "88881                                                NaN  ...   \n",
       "88882  Computer science, computer engineering, or sof...  ...   \n",
       "\n",
       "                                  WelcomeChange  \\\n",
       "0       Just as welcome now as I felt last year   \n",
       "1       Just as welcome now as I felt last year   \n",
       "2       Just as welcome now as I felt last year   \n",
       "3       Just as welcome now as I felt last year   \n",
       "4       Just as welcome now as I felt last year   \n",
       "...                                         ...   \n",
       "88878                                       NaN   \n",
       "88879                                       NaN   \n",
       "88880                                       NaN   \n",
       "88881                                       NaN   \n",
       "88882  Somewhat less welcome now than last year   \n",
       "\n",
       "                                            SONewContent   Age Gender Trans  \\\n",
       "0      Tech articles written by other developers;Indu...  14.0    Man    No   \n",
       "1      Tech articles written by other developers;Indu...  19.0    Man    No   \n",
       "2      Tech meetups or events in your area;Courses on...  28.0    Man    No   \n",
       "3      Tech articles written by other developers;Indu...  22.0    Man    No   \n",
       "4      Tech meetups or events in your area;Courses on...  30.0    Man    No   \n",
       "...                                                  ...   ...    ...   ...   \n",
       "88878  Tech articles written by other developers;Tech...   NaN    Man    No   \n",
       "88879                                                NaN   NaN    NaN   NaN   \n",
       "88880                                                NaN   NaN    NaN   NaN   \n",
       "88881                                                NaN   NaN    NaN   NaN   \n",
       "88882  Tech articles written by other developers;Indu...  18.0    Man    No   \n",
       "\n",
       "                     Sexuality  \\\n",
       "0      Straight / Heterosexual   \n",
       "1      Straight / Heterosexual   \n",
       "2      Straight / Heterosexual   \n",
       "3      Straight / Heterosexual   \n",
       "4      Straight / Heterosexual   \n",
       "...                        ...   \n",
       "88878                      NaN   \n",
       "88879                      NaN   \n",
       "88880                      NaN   \n",
       "88881                      NaN   \n",
       "88882  Straight / Heterosexual   \n",
       "\n",
       "                                               Ethnicity Dependents  \\\n",
       "0                                                    NaN         No   \n",
       "1                                                    NaN         No   \n",
       "2                                                    NaN        Yes   \n",
       "3                           White or of European descent         No   \n",
       "4               White or of European descent;Multiracial         No   \n",
       "...                                                  ...        ...   \n",
       "88878                                                NaN         No   \n",
       "88879                                                NaN        NaN   \n",
       "88880                                                NaN        NaN   \n",
       "88881                                                NaN        NaN   \n",
       "88882  Hispanic or Latino/Latina;White or of European...         No   \n",
       "\n",
       "                SurveyLength                  SurveyEase  \n",
       "0      Appropriate in length  Neither easy nor difficult  \n",
       "1      Appropriate in length  Neither easy nor difficult  \n",
       "2      Appropriate in length  Neither easy nor difficult  \n",
       "3      Appropriate in length                        Easy  \n",
       "4      Appropriate in length                        Easy  \n",
       "...                      ...                         ...  \n",
       "88878  Appropriate in length                        Easy  \n",
       "88879                    NaN                         NaN  \n",
       "88880                    NaN                         NaN  \n",
       "88881                    NaN                         NaN  \n",
       "88882  Appropriate in length                        Easy  \n",
       "\n",
       "[88883 rows x 85 columns]"
      ]
     },
     "execution_count": 3,
     "metadata": {},
     "output_type": "execute_result"
    }
   ],
   "source": [
    "df"
   ]
  },
  {
   "cell_type": "code",
   "execution_count": 4,
   "id": "c860f608",
   "metadata": {},
   "outputs": [
    {
     "data": {
      "text/plain": [
       "(88883, 85)"
      ]
     },
     "execution_count": 4,
     "metadata": {},
     "output_type": "execute_result"
    }
   ],
   "source": [
    "df.shape"
   ]
  },
  {
   "cell_type": "code",
   "execution_count": 6,
   "id": "f0b2b27e",
   "metadata": {},
   "outputs": [
    {
     "name": "stdout",
     "output_type": "stream",
     "text": [
      "<class 'pandas.core.frame.DataFrame'>\n",
      "RangeIndex: 88883 entries, 0 to 88882\n",
      "Data columns (total 85 columns):\n",
      " #   Column                  Non-Null Count  Dtype  \n",
      "---  ------                  --------------  -----  \n",
      " 0   Respondent              88883 non-null  int64  \n",
      " 1   MainBranch              88331 non-null  object \n",
      " 2   Hobbyist                88883 non-null  object \n",
      " 3   OpenSourcer             88883 non-null  object \n",
      " 4   OpenSource              86842 non-null  object \n",
      " 5   Employment              87181 non-null  object \n",
      " 6   Country                 88751 non-null  object \n",
      " 7   Student                 87014 non-null  object \n",
      " 8   EdLevel                 86390 non-null  object \n",
      " 9   UndergradMajor          75614 non-null  object \n",
      " 10  EduOther                84260 non-null  object \n",
      " 11  OrgSize                 71791 non-null  object \n",
      " 12  DevType                 81335 non-null  object \n",
      " 13  YearsCode               87938 non-null  object \n",
      " 14  Age1stCode              87634 non-null  object \n",
      " 15  YearsCodePro            74331 non-null  object \n",
      " 16  CareerSat               72847 non-null  object \n",
      " 17  JobSat                  70988 non-null  object \n",
      " 18  MgrIdiot                61159 non-null  object \n",
      " 19  MgrMoney                61157 non-null  object \n",
      " 20  MgrWant                 61232 non-null  object \n",
      " 21  JobSeek                 80555 non-null  object \n",
      " 22  LastHireDate            79854 non-null  object \n",
      " 23  LastInt                 67155 non-null  object \n",
      " 24  FizzBuzz                71344 non-null  object \n",
      " 25  JobFactors              79371 non-null  object \n",
      " 26  ResumeUpdate            77877 non-null  object \n",
      " 27  CurrencySymbol          71392 non-null  object \n",
      " 28  CurrencyDesc            71392 non-null  object \n",
      " 29  CompTotal               55945 non-null  float64\n",
      " 30  CompFreq                63268 non-null  object \n",
      " 31  ConvertedComp           55823 non-null  float64\n",
      " 32  WorkWeekHrs             64503 non-null  float64\n",
      " 33  WorkPlan                68914 non-null  object \n",
      " 34  WorkChallenge           68141 non-null  object \n",
      " 35  WorkRemote              70284 non-null  object \n",
      " 36  WorkLoc                 70055 non-null  object \n",
      " 37  ImpSyn                  71779 non-null  object \n",
      " 38  CodeRev                 70390 non-null  object \n",
      " 39  CodeRevHrs              49790 non-null  float64\n",
      " 40  UnitTests               62668 non-null  object \n",
      " 41  PurchaseHow             61108 non-null  object \n",
      " 42  PurchaseWhat            62029 non-null  object \n",
      " 43  LanguageWorkedWith      87569 non-null  object \n",
      " 44  LanguageDesireNextYear  84088 non-null  object \n",
      " 45  DatabaseWorkedWith      76026 non-null  object \n",
      " 46  DatabaseDesireNextYear  69147 non-null  object \n",
      " 47  PlatformWorkedWith      80714 non-null  object \n",
      " 48  PlatformDesireNextYear  77443 non-null  object \n",
      " 49  WebFrameWorkedWith      65022 non-null  object \n",
      " 50  WebFrameDesireNextYear  62944 non-null  object \n",
      " 51  MiscTechWorkedWith      59586 non-null  object \n",
      " 52  MiscTechDesireNextYear  64511 non-null  object \n",
      " 53  DevEnviron              87317 non-null  object \n",
      " 54  OpSys                   87851 non-null  object \n",
      " 55  Containers              85366 non-null  object \n",
      " 56  BlockchainOrg           48175 non-null  object \n",
      " 57  BlockchainIs            60165 non-null  object \n",
      " 58  BetterLife              86269 non-null  object \n",
      " 59  ITperson                87141 non-null  object \n",
      " 60  OffOn                   86663 non-null  object \n",
      " 61  SocialMedia             84437 non-null  object \n",
      " 62  Extraversion            87305 non-null  object \n",
      " 63  ScreenName              80486 non-null  object \n",
      " 64  SOVisit1st              83877 non-null  object \n",
      " 65  SOVisitFreq             88263 non-null  object \n",
      " 66  SOVisitTo               88086 non-null  object \n",
      " 67  SOFindAnswer            87816 non-null  object \n",
      " 68  SOTimeSaved             86344 non-null  object \n",
      " 69  SOHowMuchTime           68378 non-null  object \n",
      " 70  SOAccount               87828 non-null  object \n",
      " 71  SOPartFreq              74692 non-null  object \n",
      " 72  SOJobs                  88066 non-null  object \n",
      " 73  EntTeams                87841 non-null  object \n",
      " 74  SOComm                  88131 non-null  object \n",
      " 75  WelcomeChange           85855 non-null  object \n",
      " 76  SONewContent            69560 non-null  object \n",
      " 77  Age                     79210 non-null  float64\n",
      " 78  Gender                  85406 non-null  object \n",
      " 79  Trans                   83607 non-null  object \n",
      " 80  Sexuality               76147 non-null  object \n",
      " 81  Ethnicity               76668 non-null  object \n",
      " 82  Dependents              83059 non-null  object \n",
      " 83  SurveyLength            86984 non-null  object \n",
      " 84  SurveyEase              87081 non-null  object \n",
      "dtypes: float64(5), int64(1), object(79)\n",
      "memory usage: 57.6+ MB\n"
     ]
    }
   ],
   "source": [
    "df.info()"
   ]
  },
  {
   "cell_type": "code",
   "execution_count": 32,
   "id": "99c77367",
   "metadata": {},
   "outputs": [
    {
     "data": {
      "text/plain": [
       "0        Yes\n",
       "1         No\n",
       "2        Yes\n",
       "3         No\n",
       "4        Yes\n",
       "        ... \n",
       "88878    Yes\n",
       "88879     No\n",
       "88880     No\n",
       "88881     No\n",
       "88882    Yes\n",
       "Name: Hobbyist, Length: 88883, dtype: object"
      ]
     },
     "execution_count": 32,
     "metadata": {},
     "output_type": "execute_result"
    }
   ],
   "source": [
    "df['Hobbyist']"
   ]
  },
  {
   "cell_type": "code",
   "execution_count": 33,
   "id": "86333d90",
   "metadata": {},
   "outputs": [
    {
     "data": {
      "text/plain": [
       "Yes    71257\n",
       "No     17626\n",
       "Name: Hobbyist, dtype: int64"
      ]
     },
     "execution_count": 33,
     "metadata": {},
     "output_type": "execute_result"
    }
   ],
   "source": [
    "df['Hobbyist'].value_counts()"
   ]
  },
  {
   "cell_type": "code",
   "execution_count": 34,
   "id": "ef8136ef",
   "metadata": {},
   "outputs": [
    {
     "data": {
      "text/plain": [
       "Respondent                                                      1\n",
       "MainBranch                 I am a student who is learning to code\n",
       "Hobbyist                                                      Yes\n",
       "OpenSourcer                                                 Never\n",
       "OpenSource      The quality of OSS and closed source software ...\n",
       "                                      ...                        \n",
       "Sexuality                                 Straight / Heterosexual\n",
       "Ethnicity                                                     NaN\n",
       "Dependents                                                     No\n",
       "SurveyLength                                Appropriate in length\n",
       "SurveyEase                             Neither easy nor difficult\n",
       "Name: 0, Length: 85, dtype: object"
      ]
     },
     "execution_count": 34,
     "metadata": {},
     "output_type": "execute_result"
    }
   ],
   "source": [
    "df.loc[0]"
   ]
  },
  {
   "cell_type": "code",
   "execution_count": 36,
   "id": "84d2e53a",
   "metadata": {},
   "outputs": [
    {
     "data": {
      "text/plain": [
       "'Yes'"
      ]
     },
     "execution_count": 36,
     "metadata": {},
     "output_type": "execute_result"
    }
   ],
   "source": [
    "df.loc[0,'Hobbyist']"
   ]
  },
  {
   "cell_type": "code",
   "execution_count": 37,
   "id": "fac4411a",
   "metadata": {},
   "outputs": [
    {
     "data": {
      "text/plain": [
       "0    Yes\n",
       "1     No\n",
       "2    Yes\n",
       "Name: Hobbyist, dtype: object"
      ]
     },
     "execution_count": 37,
     "metadata": {},
     "output_type": "execute_result"
    }
   ],
   "source": [
    "df.loc[[0,1,2],'Hobbyist']"
   ]
  },
  {
   "cell_type": "code",
   "execution_count": 38,
   "id": "43cb1169",
   "metadata": {},
   "outputs": [
    {
     "data": {
      "text/plain": [
       "0    Yes\n",
       "1     No\n",
       "2    Yes\n",
       "Name: Hobbyist, dtype: object"
      ]
     },
     "execution_count": 38,
     "metadata": {},
     "output_type": "execute_result"
    }
   ],
   "source": [
    "df.loc[0:2,'Hobbyist']"
   ]
  },
  {
   "cell_type": "code",
   "execution_count": 39,
   "id": "1ba9623d",
   "metadata": {},
   "outputs": [
    {
     "data": {
      "text/html": [
       "<div>\n",
       "<style scoped>\n",
       "    .dataframe tbody tr th:only-of-type {\n",
       "        vertical-align: middle;\n",
       "    }\n",
       "\n",
       "    .dataframe tbody tr th {\n",
       "        vertical-align: top;\n",
       "    }\n",
       "\n",
       "    .dataframe thead th {\n",
       "        text-align: right;\n",
       "    }\n",
       "</style>\n",
       "<table border=\"1\" class=\"dataframe\">\n",
       "  <thead>\n",
       "    <tr style=\"text-align: right;\">\n",
       "      <th></th>\n",
       "      <th>Hobbyist</th>\n",
       "      <th>OpenSourcer</th>\n",
       "      <th>OpenSource</th>\n",
       "      <th>Employment</th>\n",
       "    </tr>\n",
       "  </thead>\n",
       "  <tbody>\n",
       "    <tr>\n",
       "      <th>0</th>\n",
       "      <td>Yes</td>\n",
       "      <td>Never</td>\n",
       "      <td>The quality of OSS and closed source software ...</td>\n",
       "      <td>Not employed, and not looking for work</td>\n",
       "    </tr>\n",
       "    <tr>\n",
       "      <th>1</th>\n",
       "      <td>No</td>\n",
       "      <td>Less than once per year</td>\n",
       "      <td>The quality of OSS and closed source software ...</td>\n",
       "      <td>Not employed, but looking for work</td>\n",
       "    </tr>\n",
       "    <tr>\n",
       "      <th>2</th>\n",
       "      <td>Yes</td>\n",
       "      <td>Never</td>\n",
       "      <td>The quality of OSS and closed source software ...</td>\n",
       "      <td>Employed full-time</td>\n",
       "    </tr>\n",
       "  </tbody>\n",
       "</table>\n",
       "</div>"
      ],
      "text/plain": [
       "  Hobbyist              OpenSourcer  \\\n",
       "0      Yes                    Never   \n",
       "1       No  Less than once per year   \n",
       "2      Yes                    Never   \n",
       "\n",
       "                                          OpenSource  \\\n",
       "0  The quality of OSS and closed source software ...   \n",
       "1  The quality of OSS and closed source software ...   \n",
       "2  The quality of OSS and closed source software ...   \n",
       "\n",
       "                               Employment  \n",
       "0  Not employed, and not looking for work  \n",
       "1      Not employed, but looking for work  \n",
       "2                      Employed full-time  "
      ]
     },
     "execution_count": 39,
     "metadata": {},
     "output_type": "execute_result"
    }
   ],
   "source": [
    "df.loc[0:2,'Hobbyist':'Employment']"
   ]
  },
  {
   "cell_type": "code",
   "execution_count": null,
   "id": "c66f8e01",
   "metadata": {},
   "outputs": [],
   "source": []
  },
  {
   "cell_type": "code",
   "execution_count": 7,
   "id": "2e88ddce",
   "metadata": {},
   "outputs": [],
   "source": [
    "schema_df = pd.read_csv('data/survey_results_schema.csv')"
   ]
  },
  {
   "cell_type": "code",
   "execution_count": 8,
   "id": "fc84260e",
   "metadata": {},
   "outputs": [
    {
     "data": {
      "text/html": [
       "<div>\n",
       "<style scoped>\n",
       "    .dataframe tbody tr th:only-of-type {\n",
       "        vertical-align: middle;\n",
       "    }\n",
       "\n",
       "    .dataframe tbody tr th {\n",
       "        vertical-align: top;\n",
       "    }\n",
       "\n",
       "    .dataframe thead th {\n",
       "        text-align: right;\n",
       "    }\n",
       "</style>\n",
       "<table border=\"1\" class=\"dataframe\">\n",
       "  <thead>\n",
       "    <tr style=\"text-align: right;\">\n",
       "      <th></th>\n",
       "      <th>Column</th>\n",
       "      <th>QuestionText</th>\n",
       "    </tr>\n",
       "  </thead>\n",
       "  <tbody>\n",
       "    <tr>\n",
       "      <th>0</th>\n",
       "      <td>Respondent</td>\n",
       "      <td>Randomized respondent ID number (not in order ...</td>\n",
       "    </tr>\n",
       "    <tr>\n",
       "      <th>1</th>\n",
       "      <td>MainBranch</td>\n",
       "      <td>Which of the following options best describes ...</td>\n",
       "    </tr>\n",
       "    <tr>\n",
       "      <th>2</th>\n",
       "      <td>Hobbyist</td>\n",
       "      <td>Do you code as a hobby?</td>\n",
       "    </tr>\n",
       "    <tr>\n",
       "      <th>3</th>\n",
       "      <td>OpenSourcer</td>\n",
       "      <td>How often do you contribute to open source?</td>\n",
       "    </tr>\n",
       "    <tr>\n",
       "      <th>4</th>\n",
       "      <td>OpenSource</td>\n",
       "      <td>How do you feel about the quality of open sour...</td>\n",
       "    </tr>\n",
       "    <tr>\n",
       "      <th>...</th>\n",
       "      <td>...</td>\n",
       "      <td>...</td>\n",
       "    </tr>\n",
       "    <tr>\n",
       "      <th>80</th>\n",
       "      <td>Sexuality</td>\n",
       "      <td>Which of the following do you currently identi...</td>\n",
       "    </tr>\n",
       "    <tr>\n",
       "      <th>81</th>\n",
       "      <td>Ethnicity</td>\n",
       "      <td>Which of the following do you identify as? Ple...</td>\n",
       "    </tr>\n",
       "    <tr>\n",
       "      <th>82</th>\n",
       "      <td>Dependents</td>\n",
       "      <td>Do you have any dependents (e.g., children, el...</td>\n",
       "    </tr>\n",
       "    <tr>\n",
       "      <th>83</th>\n",
       "      <td>SurveyLength</td>\n",
       "      <td>How do you feel about the length of the survey...</td>\n",
       "    </tr>\n",
       "    <tr>\n",
       "      <th>84</th>\n",
       "      <td>SurveyEase</td>\n",
       "      <td>How easy or difficult was this survey to compl...</td>\n",
       "    </tr>\n",
       "  </tbody>\n",
       "</table>\n",
       "<p>85 rows × 2 columns</p>\n",
       "</div>"
      ],
      "text/plain": [
       "          Column                                       QuestionText\n",
       "0     Respondent  Randomized respondent ID number (not in order ...\n",
       "1     MainBranch  Which of the following options best describes ...\n",
       "2       Hobbyist                            Do you code as a hobby?\n",
       "3    OpenSourcer        How often do you contribute to open source?\n",
       "4     OpenSource  How do you feel about the quality of open sour...\n",
       "..           ...                                                ...\n",
       "80     Sexuality  Which of the following do you currently identi...\n",
       "81     Ethnicity  Which of the following do you identify as? Ple...\n",
       "82    Dependents  Do you have any dependents (e.g., children, el...\n",
       "83  SurveyLength  How do you feel about the length of the survey...\n",
       "84    SurveyEase  How easy or difficult was this survey to compl...\n",
       "\n",
       "[85 rows x 2 columns]"
      ]
     },
     "execution_count": 8,
     "metadata": {},
     "output_type": "execute_result"
    }
   ],
   "source": [
    "schema_df"
   ]
  },
  {
   "cell_type": "code",
   "execution_count": 9,
   "id": "68c12312",
   "metadata": {},
   "outputs": [
    {
     "data": {
      "text/html": [
       "<div>\n",
       "<style scoped>\n",
       "    .dataframe tbody tr th:only-of-type {\n",
       "        vertical-align: middle;\n",
       "    }\n",
       "\n",
       "    .dataframe tbody tr th {\n",
       "        vertical-align: top;\n",
       "    }\n",
       "\n",
       "    .dataframe thead th {\n",
       "        text-align: right;\n",
       "    }\n",
       "</style>\n",
       "<table border=\"1\" class=\"dataframe\">\n",
       "  <thead>\n",
       "    <tr style=\"text-align: right;\">\n",
       "      <th></th>\n",
       "      <th>Column</th>\n",
       "      <th>QuestionText</th>\n",
       "    </tr>\n",
       "  </thead>\n",
       "  <tbody>\n",
       "    <tr>\n",
       "      <th>0</th>\n",
       "      <td>Respondent</td>\n",
       "      <td>Randomized respondent ID number (not in order ...</td>\n",
       "    </tr>\n",
       "    <tr>\n",
       "      <th>1</th>\n",
       "      <td>MainBranch</td>\n",
       "      <td>Which of the following options best describes ...</td>\n",
       "    </tr>\n",
       "    <tr>\n",
       "      <th>2</th>\n",
       "      <td>Hobbyist</td>\n",
       "      <td>Do you code as a hobby?</td>\n",
       "    </tr>\n",
       "    <tr>\n",
       "      <th>3</th>\n",
       "      <td>OpenSourcer</td>\n",
       "      <td>How often do you contribute to open source?</td>\n",
       "    </tr>\n",
       "    <tr>\n",
       "      <th>4</th>\n",
       "      <td>OpenSource</td>\n",
       "      <td>How do you feel about the quality of open sour...</td>\n",
       "    </tr>\n",
       "    <tr>\n",
       "      <th>5</th>\n",
       "      <td>Employment</td>\n",
       "      <td>Which of the following best describes your cur...</td>\n",
       "    </tr>\n",
       "    <tr>\n",
       "      <th>6</th>\n",
       "      <td>Country</td>\n",
       "      <td>In which country do you currently reside?</td>\n",
       "    </tr>\n",
       "    <tr>\n",
       "      <th>7</th>\n",
       "      <td>Student</td>\n",
       "      <td>Are you currently enrolled in a formal, degree...</td>\n",
       "    </tr>\n",
       "    <tr>\n",
       "      <th>8</th>\n",
       "      <td>EdLevel</td>\n",
       "      <td>Which of the following best describes the high...</td>\n",
       "    </tr>\n",
       "    <tr>\n",
       "      <th>9</th>\n",
       "      <td>UndergradMajor</td>\n",
       "      <td>What was your main or most important field of ...</td>\n",
       "    </tr>\n",
       "  </tbody>\n",
       "</table>\n",
       "</div>"
      ],
      "text/plain": [
       "           Column                                       QuestionText\n",
       "0      Respondent  Randomized respondent ID number (not in order ...\n",
       "1      MainBranch  Which of the following options best describes ...\n",
       "2        Hobbyist                            Do you code as a hobby?\n",
       "3     OpenSourcer        How often do you contribute to open source?\n",
       "4      OpenSource  How do you feel about the quality of open sour...\n",
       "5      Employment  Which of the following best describes your cur...\n",
       "6         Country          In which country do you currently reside?\n",
       "7         Student  Are you currently enrolled in a formal, degree...\n",
       "8         EdLevel  Which of the following best describes the high...\n",
       "9  UndergradMajor  What was your main or most important field of ..."
      ]
     },
     "execution_count": 9,
     "metadata": {},
     "output_type": "execute_result"
    }
   ],
   "source": [
    "schema_df.head(10)"
   ]
  },
  {
   "cell_type": "code",
   "execution_count": 10,
   "id": "a0d4f16a",
   "metadata": {},
   "outputs": [
    {
     "data": {
      "text/html": [
       "<div>\n",
       "<style scoped>\n",
       "    .dataframe tbody tr th:only-of-type {\n",
       "        vertical-align: middle;\n",
       "    }\n",
       "\n",
       "    .dataframe tbody tr th {\n",
       "        vertical-align: top;\n",
       "    }\n",
       "\n",
       "    .dataframe thead th {\n",
       "        text-align: right;\n",
       "    }\n",
       "</style>\n",
       "<table border=\"1\" class=\"dataframe\">\n",
       "  <thead>\n",
       "    <tr style=\"text-align: right;\">\n",
       "      <th></th>\n",
       "      <th>Column</th>\n",
       "      <th>QuestionText</th>\n",
       "    </tr>\n",
       "  </thead>\n",
       "  <tbody>\n",
       "    <tr>\n",
       "      <th>75</th>\n",
       "      <td>WelcomeChange</td>\n",
       "      <td>Compared to last year, how welcome do you feel...</td>\n",
       "    </tr>\n",
       "    <tr>\n",
       "      <th>76</th>\n",
       "      <td>SONewContent</td>\n",
       "      <td>Would you like to see any of the following on ...</td>\n",
       "    </tr>\n",
       "    <tr>\n",
       "      <th>77</th>\n",
       "      <td>Age</td>\n",
       "      <td>What is your age (in years)? If you prefer not...</td>\n",
       "    </tr>\n",
       "    <tr>\n",
       "      <th>78</th>\n",
       "      <td>Gender</td>\n",
       "      <td>Which of the following do you currently identi...</td>\n",
       "    </tr>\n",
       "    <tr>\n",
       "      <th>79</th>\n",
       "      <td>Trans</td>\n",
       "      <td>Do you identify as transgender?</td>\n",
       "    </tr>\n",
       "    <tr>\n",
       "      <th>80</th>\n",
       "      <td>Sexuality</td>\n",
       "      <td>Which of the following do you currently identi...</td>\n",
       "    </tr>\n",
       "    <tr>\n",
       "      <th>81</th>\n",
       "      <td>Ethnicity</td>\n",
       "      <td>Which of the following do you identify as? Ple...</td>\n",
       "    </tr>\n",
       "    <tr>\n",
       "      <th>82</th>\n",
       "      <td>Dependents</td>\n",
       "      <td>Do you have any dependents (e.g., children, el...</td>\n",
       "    </tr>\n",
       "    <tr>\n",
       "      <th>83</th>\n",
       "      <td>SurveyLength</td>\n",
       "      <td>How do you feel about the length of the survey...</td>\n",
       "    </tr>\n",
       "    <tr>\n",
       "      <th>84</th>\n",
       "      <td>SurveyEase</td>\n",
       "      <td>How easy or difficult was this survey to compl...</td>\n",
       "    </tr>\n",
       "  </tbody>\n",
       "</table>\n",
       "</div>"
      ],
      "text/plain": [
       "           Column                                       QuestionText\n",
       "75  WelcomeChange  Compared to last year, how welcome do you feel...\n",
       "76   SONewContent  Would you like to see any of the following on ...\n",
       "77            Age  What is your age (in years)? If you prefer not...\n",
       "78         Gender  Which of the following do you currently identi...\n",
       "79          Trans                    Do you identify as transgender?\n",
       "80      Sexuality  Which of the following do you currently identi...\n",
       "81      Ethnicity  Which of the following do you identify as? Ple...\n",
       "82     Dependents  Do you have any dependents (e.g., children, el...\n",
       "83   SurveyLength  How do you feel about the length of the survey...\n",
       "84     SurveyEase  How easy or difficult was this survey to compl..."
      ]
     },
     "execution_count": 10,
     "metadata": {},
     "output_type": "execute_result"
    }
   ],
   "source": [
    "schema_df.tail(10)"
   ]
  },
  {
   "cell_type": "code",
   "execution_count": null,
   "id": "71d0abf5",
   "metadata": {},
   "outputs": [],
   "source": []
  }
 ],
 "metadata": {
  "kernelspec": {
   "display_name": "Python 3 (ipykernel)",
   "language": "python",
   "name": "python3"
  },
  "language_info": {
   "codemirror_mode": {
    "name": "ipython",
    "version": 3
   },
   "file_extension": ".py",
   "mimetype": "text/x-python",
   "name": "python",
   "nbconvert_exporter": "python",
   "pygments_lexer": "ipython3",
   "version": "3.8.10"
  }
 },
 "nbformat": 4,
 "nbformat_minor": 5
}
